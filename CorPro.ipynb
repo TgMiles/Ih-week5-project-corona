{
 "cells": [
  {
   "cell_type": "code",
   "execution_count": 2557,
   "id": "145a0a28-a2ac-4284-afec-153ee62c2401",
   "metadata": {},
   "outputs": [],
   "source": [
    "# pip install pandas-profiling"
   ]
  },
  {
   "cell_type": "markdown",
   "id": "c5fbd8c2-d16b-45d5-8e91-83bc4e9b6046",
   "metadata": {},
   "source": [
    "# Imports"
   ]
  },
  {
   "cell_type": "code",
   "execution_count": 2558,
   "id": "05609312-e292-4488-b1aa-08edb531b612",
   "metadata": {},
   "outputs": [],
   "source": [
    "import pandas as pd\n",
    "import numpy as np\n",
    "from pandas_profiling import ProfileReport\n",
    "\n",
    "import statistics as stats\n",
    "import matplotlib.mlab as mlab\n",
    "import matplotlib.pyplot as plt\n",
    "import seaborn as sns\n",
    "import datetime as dt\n",
    "\n",
    "from sklearn import linear_model\n",
    "from sklearn.metrics import r2_score\n",
    "from sklearn.metrics import mean_squared_error\n",
    "from sklearn.metrics import mean_absolute_error\n",
    "from sklearn.preprocessing import MinMaxScaler \n",
    "from sklearn.model_selection import train_test_split\n",
    "\n",
    "import scipy.stats as stats"
   ]
  },
  {
   "cell_type": "markdown",
   "id": "bf3c5c05-afb3-46c2-b0c5-cad799d9fca0",
   "metadata": {},
   "source": [
    "# Load & clean data"
   ]
  },
  {
   "cell_type": "markdown",
   "id": "bd5d14e4-ab22-45de-92c9-3722de2e0e2f",
   "metadata": {},
   "source": [
    "## DF New Cases & R (that is the main dataset I work with)"
   ]
  },
  {
   "cell_type": "code",
   "execution_count": 2559,
   "id": "066e13a2-36f1-4e2b-bb1f-c96ea4e09cc8",
   "metadata": {},
   "outputs": [],
   "source": [
    "df = pd.read_csv('Nowcast_R_aktuell, seit Pandemiebeginn.csv')\n",
    "df.columns = df.columns.str.lower().str.replace(' ', '_').str.replace('.', '', regex=True)"
   ]
  },
  {
   "cell_type": "code",
   "execution_count": 2560,
   "id": "eff2ad3c-473d-481d-a4c3-d52f3426dd84",
   "metadata": {},
   "outputs": [
    {
     "data": {
      "text/plain": [
       "Index(['datum', 'ps_covid_faelle', 'ug_pi_covid_faelle', 'og_pi_covid_faelle',\n",
       "       'ps_covid_faelle_ma4', 'ug_pi_covid_faelle_ma4',\n",
       "       'og_pi_covid_faelle_ma4', 'ps_7_tage_r_wert', 'ug_pi_7_tage_r_wert',\n",
       "       'og_pi_7_tage_r_wert'],\n",
       "      dtype='object')"
      ]
     },
     "execution_count": 2560,
     "metadata": {},
     "output_type": "execute_result"
    }
   ],
   "source": [
    "\n",
    "df.columns"
   ]
  },
  {
   "cell_type": "code",
   "execution_count": 2561,
   "id": "b4f39074-0775-475e-a610-e02cd482577f",
   "metadata": {},
   "outputs": [],
   "source": [
    "df.drop(['ug_pi_covid_faelle', 'og_pi_covid_faelle', 'ps_covid_faelle_ma4', 'ug_pi_covid_faelle_ma4',\n",
    "       'og_pi_covid_faelle_ma4', 'ug_pi_7_tage_r_wert',\n",
    "       'og_pi_7_tage_r_wert'], axis=1, inplace=True)\n",
    "df.rename(columns={'datum':'date', 'ps_covid_faelle':'cases','ps_7_tage_r_wert':'rval'}, inplace=True)"
   ]
  },
  {
   "cell_type": "code",
   "execution_count": 2562,
   "id": "7486ff61-b536-4524-a2d1-561095ab9391",
   "metadata": {},
   "outputs": [],
   "source": [
    "# Export cleaned data\n",
    "#df.to_excel('rval.xlsx', index=False)"
   ]
  },
  {
   "cell_type": "code",
   "execution_count": 2563,
   "id": "014d058e-68f6-409e-9389-13187ce7f2d4",
   "metadata": {},
   "outputs": [],
   "source": [
    "profile = df.profile_report(title='Pandas Profiling Report')\n",
    "# profile"
   ]
  },
  {
   "cell_type": "code",
   "execution_count": 2564,
   "id": "c2ebf3fe-18bd-4ba8-8fcb-b20ad37116ba",
   "metadata": {},
   "outputs": [],
   "source": [
    "df.isna().sum()\n",
    "df.dropna(inplace=True)"
   ]
  },
  {
   "cell_type": "code",
   "execution_count": 2565,
   "id": "8e58e9c9-2acb-46b7-8cb1-3c5ccb0ebc2a",
   "metadata": {},
   "outputs": [],
   "source": [
    "df = df.reset_index()"
   ]
  },
  {
   "cell_type": "code",
   "execution_count": 2566,
   "id": "28af5bda-c289-4a1e-ba19-7ca4a4c48080",
   "metadata": {},
   "outputs": [
    {
     "data": {
      "text/plain": [
       "index      int64\n",
       "date      object\n",
       "cases      int64\n",
       "rval     float64\n",
       "dtype: object"
      ]
     },
     "execution_count": 2566,
     "metadata": {},
     "output_type": "execute_result"
    }
   ],
   "source": [
    "df.dtypes"
   ]
  },
  {
   "cell_type": "code",
   "execution_count": 2567,
   "id": "efe739e8-f557-4c07-9b10-cfaad49070eb",
   "metadata": {},
   "outputs": [],
   "source": [
    "df['date'] = pd.to_datetime(df['date'], errors='coerce')\n"
   ]
  },
  {
   "cell_type": "markdown",
   "id": "a77bcc65-74bd-46c5-91c9-3362089971d1",
   "metadata": {},
   "source": [
    "## DF by Region\n",
    "unfortunately I didn't use this dataframe for further analysis (yet)"
   ]
  },
  {
   "cell_type": "markdown",
   "id": "cb57bea6-309c-4460-9e06-ab472b6c700b",
   "metadata": {},
   "source": [
    "by_region = pd.read_csv('RKI_COVID19_Nordrhein-Westfalen.csv', sep=\";\")\n",
    "by_region.columns = by_region.columns.str.lower().str.replace(' ', '_').str.replace('.', '', regex=True)\n",
    "by_region.drop(['idbundesland', 'bundesland', 'idlandkreis', 'altersgruppe', 'altersgruppe2', 'geschlecht', 'refdatum', 'isterkrankungsbeginn', 'neuerfall', 'neuertodesfall', 'neugenesen', 'anzahltodesfall', 'anzahlgenesen', 'datenstand', 'objectid'], axis=1, inplace=True)\n",
    "by_region.rename(columns={'meldedatum':'date', 'anzahlfall':'cases','landkreis':'region'}, inplace=True)\n",
    "by_region['date'] = pd.to_datetime(by_region['date'], errors='coerce')\n"
   ]
  },
  {
   "cell_type": "markdown",
   "id": "0a7a09ac-ca51-4b1d-9202-0f444137cd37",
   "metadata": {},
   "source": [
    "by_region['date'] = by_region['date'].dt.strftime('%m-%d-%Y')"
   ]
  },
  {
   "cell_type": "markdown",
   "id": "7ee50e45-3869-4044-8839-7c685075e5e5",
   "metadata": {},
   "source": [
    "by_region.columns"
   ]
  },
  {
   "cell_type": "code",
   "execution_count": 2568,
   "id": "6ba4edb4-7c2c-4a1e-8cd7-c04c0e2283f9",
   "metadata": {},
   "outputs": [],
   "source": [
    "# by_region.groupby(['region'])['cases'].agg(sum)"
   ]
  },
  {
   "cell_type": "markdown",
   "id": "923265dc-9e42-4672-a3dc-6afd8851b88e",
   "metadata": {},
   "source": [
    "by_region = by_region.groupby(['region', 'date'])['cases'].agg(sum).reset_index()"
   ]
  },
  {
   "cell_type": "markdown",
   "id": "3e3be518-db16-44dd-bf7a-20199c15e9bc",
   "metadata": {},
   "source": [
    "by_region"
   ]
  },
  {
   "cell_type": "code",
   "execution_count": 2569,
   "id": "129a3f1e-3fbe-4696-ac62-5570d2fec043",
   "metadata": {},
   "outputs": [],
   "source": [
    "# todo: df: by region\n",
    "## resorting by date and region\n",
    "## then run pct.change per region\n",
    "# by_region['growth'] = by_region['cases'].pct_change()"
   ]
  },
  {
   "cell_type": "markdown",
   "id": "fe401d03-f1c7-494f-9b8a-9ed48b95ed7c",
   "metadata": {},
   "source": [
    "## DF Hospital cases"
   ]
  },
  {
   "cell_type": "code",
   "execution_count": 2570,
   "id": "a1829a20-b0e1-4faf-a770-a4a70dea840b",
   "metadata": {},
   "outputs": [],
   "source": [
    "hosp = pd.read_excel('Aktuell_Deutschland_COVID-19-Hospitalisierungen, nach Bundesland, seit März 2021.xlsx')\n",
    "hosp.columns = hosp.columns.str.lower().str.replace(' ', '_').str.replace('.', '', regex=True)"
   ]
  },
  {
   "cell_type": "code",
   "execution_count": 2571,
   "id": "d595f3e3-06e8-4143-bb6e-2ae011dd1fed",
   "metadata": {},
   "outputs": [
    {
     "data": {
      "text/plain": [
       "Index(['datum', 'bundesland', 'bundesland_id', 'altersgruppe',\n",
       "       'fixierte_7t_hospitalisierung_faelle',\n",
       "       'aktualisierte_7t_hospitalisierung_faelle',\n",
       "       'ps_adjustierte_7t_hospitalisierung_faelle',\n",
       "       'ug_pi_adjustierte_7t_hospitalisierung_faelle',\n",
       "       'og_pi_adjustierte_7t_hospitalisierung_faelle', 'bevoelkerung',\n",
       "       'fixierte_7t_hospitalisierung_inzidenz',\n",
       "       'aktualisierte_7t_hospitalisierung_inzidenz',\n",
       "       'ps_adjustierte_7t_hospitalisierung_inzidenz',\n",
       "       'ug_pi_adjustierte_7t_hospitalisierung_inzidenz',\n",
       "       'og_pi_adjustierte_7t_hospitalisierung_inzidenz'],\n",
       "      dtype='object')"
      ]
     },
     "execution_count": 2571,
     "metadata": {},
     "output_type": "execute_result"
    }
   ],
   "source": [
    "hosp.columns"
   ]
  },
  {
   "cell_type": "code",
   "execution_count": 2572,
   "id": "38b50531-6083-4d54-a31e-a596f4e97203",
   "metadata": {},
   "outputs": [],
   "source": [
    "hosp.drop(['bundesland', 'bundesland_id', 'altersgruppe',\n",
    "       'fixierte_7t_hospitalisierung_faelle',      \n",
    "       'ps_adjustierte_7t_hospitalisierung_faelle',\n",
    "       'ug_pi_adjustierte_7t_hospitalisierung_faelle',\n",
    "       'og_pi_adjustierte_7t_hospitalisierung_faelle', 'bevoelkerung',\n",
    "       'fixierte_7t_hospitalisierung_inzidenz',\n",
    "       'aktualisierte_7t_hospitalisierung_inzidenz',\n",
    "       'ps_adjustierte_7t_hospitalisierung_inzidenz',\n",
    "       'ug_pi_adjustierte_7t_hospitalisierung_inzidenz',\n",
    "       'og_pi_adjustierte_7t_hospitalisierung_inzidenz'], axis=1, inplace=True)\n",
    "hosp.rename(columns={'datum':'date', 'aktualisierte_7t_hospitalisierung_faelle':'hcases'}, inplace=True)\n",
    "hosp['date'] = pd.to_datetime(df['date'], errors='coerce')"
   ]
  },
  {
   "cell_type": "code",
   "execution_count": 2573,
   "id": "39a8fe5e-c02b-46c0-ac5d-f808327ce567",
   "metadata": {},
   "outputs": [],
   "source": [
    "hosp = hosp.groupby(['date'])['hcases'].agg(sum)\n",
    "hosp = hosp.reset_index() "
   ]
  },
  {
   "cell_type": "code",
   "execution_count": 2574,
   "id": "7dc94a3d-d05e-4230-a9d0-0853b2fbbe8d",
   "metadata": {},
   "outputs": [
    {
     "data": {
      "text/html": [
       "<div>\n",
       "<style scoped>\n",
       "    .dataframe tbody tr th:only-of-type {\n",
       "        vertical-align: middle;\n",
       "    }\n",
       "\n",
       "    .dataframe tbody tr th {\n",
       "        vertical-align: top;\n",
       "    }\n",
       "\n",
       "    .dataframe thead th {\n",
       "        text-align: right;\n",
       "    }\n",
       "</style>\n",
       "<table border=\"1\" class=\"dataframe\">\n",
       "  <thead>\n",
       "    <tr style=\"text-align: right;\">\n",
       "      <th></th>\n",
       "      <th>date</th>\n",
       "      <th>cases</th>\n",
       "      <th>rval</th>\n",
       "      <th>hcases</th>\n",
       "    </tr>\n",
       "  </thead>\n",
       "  <tbody>\n",
       "    <tr>\n",
       "      <th>0</th>\n",
       "      <td>2020-03-06</td>\n",
       "      <td>757</td>\n",
       "      <td>2.34</td>\n",
       "      <td>4192</td>\n",
       "    </tr>\n",
       "    <tr>\n",
       "      <th>1</th>\n",
       "      <td>2020-03-07</td>\n",
       "      <td>984</td>\n",
       "      <td>2.56</td>\n",
       "      <td>4409</td>\n",
       "    </tr>\n",
       "    <tr>\n",
       "      <th>2</th>\n",
       "      <td>2020-03-08</td>\n",
       "      <td>1336</td>\n",
       "      <td>2.93</td>\n",
       "      <td>4670</td>\n",
       "    </tr>\n",
       "    <tr>\n",
       "      <th>3</th>\n",
       "      <td>2020-03-09</td>\n",
       "      <td>2020</td>\n",
       "      <td>3.13</td>\n",
       "      <td>4558</td>\n",
       "    </tr>\n",
       "    <tr>\n",
       "      <th>4</th>\n",
       "      <td>2020-03-10</td>\n",
       "      <td>2574</td>\n",
       "      <td>3.22</td>\n",
       "      <td>4914</td>\n",
       "    </tr>\n",
       "    <tr>\n",
       "      <th>...</th>\n",
       "      <td>...</td>\n",
       "      <td>...</td>\n",
       "      <td>...</td>\n",
       "      <td>...</td>\n",
       "    </tr>\n",
       "    <tr>\n",
       "      <th>771</th>\n",
       "      <td>2022-04-16</td>\n",
       "      <td>83543</td>\n",
       "      <td>0.89</td>\n",
       "      <td>118</td>\n",
       "    </tr>\n",
       "    <tr>\n",
       "      <th>772</th>\n",
       "      <td>2022-04-17</td>\n",
       "      <td>94915</td>\n",
       "      <td>0.88</td>\n",
       "      <td>130</td>\n",
       "    </tr>\n",
       "    <tr>\n",
       "      <th>773</th>\n",
       "      <td>2022-04-18</td>\n",
       "      <td>106658</td>\n",
       "      <td>0.92</td>\n",
       "      <td>128</td>\n",
       "    </tr>\n",
       "    <tr>\n",
       "      <th>774</th>\n",
       "      <td>2022-04-19</td>\n",
       "      <td>124049</td>\n",
       "      <td>0.98</td>\n",
       "      <td>138</td>\n",
       "    </tr>\n",
       "    <tr>\n",
       "      <th>775</th>\n",
       "      <td>2022-04-20</td>\n",
       "      <td>116755</td>\n",
       "      <td>0.99</td>\n",
       "      <td>142</td>\n",
       "    </tr>\n",
       "  </tbody>\n",
       "</table>\n",
       "<p>776 rows × 4 columns</p>\n",
       "</div>"
      ],
      "text/plain": [
       "          date   cases  rval  hcases\n",
       "0   2020-03-06     757  2.34    4192\n",
       "1   2020-03-07     984  2.56    4409\n",
       "2   2020-03-08    1336  2.93    4670\n",
       "3   2020-03-09    2020  3.13    4558\n",
       "4   2020-03-10    2574  3.22    4914\n",
       "..         ...     ...   ...     ...\n",
       "771 2022-04-16   83543  0.89     118\n",
       "772 2022-04-17   94915  0.88     130\n",
       "773 2022-04-18  106658  0.92     128\n",
       "774 2022-04-19  124049  0.98     138\n",
       "775 2022-04-20  116755  0.99     142\n",
       "\n",
       "[776 rows x 4 columns]"
      ]
     },
     "execution_count": 2574,
     "metadata": {},
     "output_type": "execute_result"
    }
   ],
   "source": [
    "hosp.drop(['date'], axis=1, inplace=True)\n",
    "hosp = pd.concat([df, hosp], axis=1)\n",
    "hosp.drop(['index'], axis=1, inplace=True)\n",
    "hosp"
   ]
  },
  {
   "cell_type": "markdown",
   "id": "3e464e41-1d99-47f4-bb91-945c449b1f83",
   "metadata": {},
   "source": [
    "## DF Corona tests"
   ]
  },
  {
   "cell_type": "code",
   "execution_count": 2575,
   "id": "5dc6f0c6-12ef-48a1-a3ee-5a39d8b47159",
   "metadata": {},
   "outputs": [],
   "source": [
    "tests = pd.read_excel('Testzahlen-gesamt-rki.xlsx', sheet_name=\"1_Testzahlerfassung\")\n",
    "tests.columns = tests.columns.str.lower().str.replace(' ', '_').str.replace('.', '', regex=True)"
   ]
  },
  {
   "cell_type": "code",
   "execution_count": 2576,
   "id": "60b6117f-c098-473e-b3b8-99d81ac009ce",
   "metadata": {},
   "outputs": [
    {
     "data": {
      "text/plain": [
       "Index(['kalenderwoche', 'anzahl_testungen', 'positiv_getestet',\n",
       "       'positivenanteil_(%)', 'anzahl_übermittelnder_labore'],\n",
       "      dtype='object')"
      ]
     },
     "execution_count": 2576,
     "metadata": {},
     "output_type": "execute_result"
    }
   ],
   "source": [
    "tests.columns"
   ]
  },
  {
   "cell_type": "code",
   "execution_count": 2577,
   "id": "a9428f1c-c542-476c-b018-cacc6c3c70a6",
   "metadata": {},
   "outputs": [],
   "source": [
    "tests.drop(['positiv_getestet', 'anzahl_übermittelnder_labore'], axis=1, inplace=True)"
   ]
  },
  {
   "cell_type": "code",
   "execution_count": 2578,
   "id": "7440a75d-9f0d-400b-a7c5-1c2cbdf436a6",
   "metadata": {},
   "outputs": [],
   "source": [
    "tests.rename(columns={'kalenderwoche':'date', 'anzahl_testungen':'tests', 'positivenanteil_(%)':'positivity_rate'}, inplace=True)"
   ]
  },
  {
   "cell_type": "code",
   "execution_count": 2579,
   "id": "61387c0b-915d-475c-8638-bc1f6bafa6e3",
   "metadata": {},
   "outputs": [],
   "source": [
    "tests=tests.drop(tests.index[[0]])"
   ]
  },
  {
   "cell_type": "code",
   "execution_count": 2580,
   "id": "0f98fb75-13b1-4455-805a-8f9b145d63cf",
   "metadata": {},
   "outputs": [],
   "source": [
    "tests[['week', 'year']] = tests['date'].str.split('/', 1, expand=True)"
   ]
  },
  {
   "cell_type": "code",
   "execution_count": 2581,
   "id": "b0b1354a-ab29-4a15-9993-dedfc4a9e9cb",
   "metadata": {},
   "outputs": [],
   "source": [
    "tests = tests.dropna()"
   ]
  },
  {
   "cell_type": "code",
   "execution_count": 2582,
   "id": "df9af3d1-ca5a-4d5c-b568-11c5025b9319",
   "metadata": {},
   "outputs": [],
   "source": [
    "tests['year'] = tests['year'].astype(int)\n",
    "tests['week'] = tests['week'].astype(int)"
   ]
  },
  {
   "cell_type": "markdown",
   "id": "3e35a58b-6b86-4fe6-b0bd-e2221b955d65",
   "metadata": {},
   "source": [
    "### calculate amount of tests beginning in ~May"
   ]
  },
  {
   "cell_type": "code",
   "execution_count": 2583,
   "id": "3c09ce57-d5e7-49c6-912e-dcd78226b29a",
   "metadata": {},
   "outputs": [
    {
     "name": "stdout",
     "output_type": "stream",
     "text": [
      "Test 2020: 33304431\n",
      "Tests 2021: 35269365\n",
      "Positivity rate 2020: 139.05297652534705\n",
      "Positivity rate 2021: 304.2448276912411\n",
      "2.18797781459775\n"
     ]
    }
   ],
   "source": [
    "print('Test 2020: ' + str(tests['tests'][(tests['year'] == 2020) & (tests['week'] >= 19)].sum()))\n",
    "print('Tests 2021: ' + str(tests['tests'][(tests['year'] == 2021) & (tests['week'] >= 19)].sum()))\n",
    "\n",
    "p_rate_2020 = tests['positivity_rate'][(tests['year'] == 2020) & (tests['week'] >= 19)].sum()\n",
    "p_rate_2021 = tests['positivity_rate'][(tests['year'] == 2021) & (tests['week'] >= 19)].sum()\n",
    "\n",
    "print('Positivity rate 2020: ' + str(p_rate_2020))\n",
    "print('Positivity rate 2021: ' + str(p_rate_2021))\n",
    "\n",
    "p_ratio = p_rate_2021 / p_rate_2020\n",
    "\n",
    "print(p_ratio)\n"
   ]
  },
  {
   "cell_type": "markdown",
   "id": "5a14aa65-fe49-4e4c-bc41-ce73629ad1b1",
   "metadata": {},
   "source": [
    "## Some more cleaning on DF New Cases & R"
   ]
  },
  {
   "cell_type": "code",
   "execution_count": 2584,
   "id": "2b00f9b8-5811-42ad-82e3-2c6e4e473049",
   "metadata": {},
   "outputs": [],
   "source": [
    "# I only want to compare 2nd half of 2020 to 2nd half of 2021 \n",
    "# So I drop all other data\n",
    "# and because I want to run a test on the cases later I create a copy before that"
   ]
  },
  {
   "cell_type": "code",
   "execution_count": 2585,
   "id": "078ada2c-bee8-4a51-add0-a63e69646e3f",
   "metadata": {},
   "outputs": [],
   "source": [
    "# add column year\n",
    "df['year'] = df['date'].dt.year\n",
    "\n",
    "# df[\"date\"].dt.strftime(\"%m-%d\")"
   ]
  },
  {
   "cell_type": "markdown",
   "id": "c11fda16-18ab-4ce8-8ab5-9d4f146f957b",
   "metadata": {},
   "source": [
    "### Drop data & create copy for t-test"
   ]
  },
  {
   "cell_type": "code",
   "execution_count": 2586,
   "id": "bfb6001e-88a0-48c6-8ed6-066860c40026",
   "metadata": {},
   "outputs": [],
   "source": [
    "t_testdata = df.copy()"
   ]
  },
  {
   "cell_type": "code",
   "execution_count": 2587,
   "id": "e4cfd7d4-bb79-4e45-9589-57ebf127bf75",
   "metadata": {},
   "outputs": [],
   "source": [
    "df = df.drop(df[((df.date <= '2021-04-30') & (df.date >= '2021-01-01'))].index)\n",
    "df = df.drop(df[((df.date <= '2020-04-30') & (df.date >= '2020-01-01'))].index)"
   ]
  },
  {
   "cell_type": "code",
   "execution_count": 2588,
   "id": "13111076-d5aa-4b59-8de5-be2e5a052cd9",
   "metadata": {},
   "outputs": [],
   "source": [
    "df = df.drop(df[df.year == 2022].index)"
   ]
  },
  {
   "cell_type": "markdown",
   "id": "cf4e3b59-0725-467a-89bc-80321d24e6cb",
   "metadata": {},
   "source": [
    "# Calculate some more data"
   ]
  },
  {
   "cell_type": "markdown",
   "id": "67558313-9e86-4586-8104-49a9670d0536",
   "metadata": {},
   "source": [
    "## Calculate growth of cases and R"
   ]
  },
  {
   "cell_type": "code",
   "execution_count": 2589,
   "id": "c6616031-463b-4c81-abfa-3505951b5477",
   "metadata": {},
   "outputs": [
    {
     "data": {
      "text/html": [
       "<div>\n",
       "<style scoped>\n",
       "    .dataframe tbody tr th:only-of-type {\n",
       "        vertical-align: middle;\n",
       "    }\n",
       "\n",
       "    .dataframe tbody tr th {\n",
       "        vertical-align: top;\n",
       "    }\n",
       "\n",
       "    .dataframe thead th {\n",
       "        text-align: right;\n",
       "    }\n",
       "</style>\n",
       "<table border=\"1\" class=\"dataframe\">\n",
       "  <thead>\n",
       "    <tr style=\"text-align: right;\">\n",
       "      <th></th>\n",
       "      <th>index</th>\n",
       "      <th>date</th>\n",
       "      <th>cases</th>\n",
       "      <th>rval</th>\n",
       "      <th>year</th>\n",
       "    </tr>\n",
       "  </thead>\n",
       "  <tbody>\n",
       "    <tr>\n",
       "      <th>56</th>\n",
       "      <td>60</td>\n",
       "      <td>2020-05-01</td>\n",
       "      <td>814</td>\n",
       "      <td>0.82</td>\n",
       "      <td>2020</td>\n",
       "    </tr>\n",
       "    <tr>\n",
       "      <th>57</th>\n",
       "      <td>61</td>\n",
       "      <td>2020-05-02</td>\n",
       "      <td>743</td>\n",
       "      <td>0.85</td>\n",
       "      <td>2020</td>\n",
       "    </tr>\n",
       "    <tr>\n",
       "      <th>58</th>\n",
       "      <td>62</td>\n",
       "      <td>2020-05-03</td>\n",
       "      <td>756</td>\n",
       "      <td>0.86</td>\n",
       "      <td>2020</td>\n",
       "    </tr>\n",
       "    <tr>\n",
       "      <th>59</th>\n",
       "      <td>63</td>\n",
       "      <td>2020-05-04</td>\n",
       "      <td>891</td>\n",
       "      <td>0.89</td>\n",
       "      <td>2020</td>\n",
       "    </tr>\n",
       "    <tr>\n",
       "      <th>60</th>\n",
       "      <td>64</td>\n",
       "      <td>2020-05-05</td>\n",
       "      <td>813</td>\n",
       "      <td>0.90</td>\n",
       "      <td>2020</td>\n",
       "    </tr>\n",
       "    <tr>\n",
       "      <th>...</th>\n",
       "      <td>...</td>\n",
       "      <td>...</td>\n",
       "      <td>...</td>\n",
       "      <td>...</td>\n",
       "      <td>...</td>\n",
       "    </tr>\n",
       "    <tr>\n",
       "      <th>661</th>\n",
       "      <td>665</td>\n",
       "      <td>2021-12-27</td>\n",
       "      <td>38089</td>\n",
       "      <td>1.09</td>\n",
       "      <td>2021</td>\n",
       "    </tr>\n",
       "    <tr>\n",
       "      <th>662</th>\n",
       "      <td>666</td>\n",
       "      <td>2021-12-28</td>\n",
       "      <td>37520</td>\n",
       "      <td>1.13</td>\n",
       "      <td>2021</td>\n",
       "    </tr>\n",
       "    <tr>\n",
       "      <th>663</th>\n",
       "      <td>667</td>\n",
       "      <td>2021-12-29</td>\n",
       "      <td>34666</td>\n",
       "      <td>1.15</td>\n",
       "      <td>2021</td>\n",
       "    </tr>\n",
       "    <tr>\n",
       "      <th>664</th>\n",
       "      <td>668</td>\n",
       "      <td>2021-12-30</td>\n",
       "      <td>33152</td>\n",
       "      <td>1.17</td>\n",
       "      <td>2021</td>\n",
       "    </tr>\n",
       "    <tr>\n",
       "      <th>665</th>\n",
       "      <td>669</td>\n",
       "      <td>2021-12-31</td>\n",
       "      <td>34962</td>\n",
       "      <td>1.19</td>\n",
       "      <td>2021</td>\n",
       "    </tr>\n",
       "  </tbody>\n",
       "</table>\n",
       "<p>490 rows × 5 columns</p>\n",
       "</div>"
      ],
      "text/plain": [
       "     index       date  cases  rval  year\n",
       "56      60 2020-05-01    814  0.82  2020\n",
       "57      61 2020-05-02    743  0.85  2020\n",
       "58      62 2020-05-03    756  0.86  2020\n",
       "59      63 2020-05-04    891  0.89  2020\n",
       "60      64 2020-05-05    813  0.90  2020\n",
       "..     ...        ...    ...   ...   ...\n",
       "661    665 2021-12-27  38089  1.09  2021\n",
       "662    666 2021-12-28  37520  1.13  2021\n",
       "663    667 2021-12-29  34666  1.15  2021\n",
       "664    668 2021-12-30  33152  1.17  2021\n",
       "665    669 2021-12-31  34962  1.19  2021\n",
       "\n",
       "[490 rows x 5 columns]"
      ]
     },
     "execution_count": 2589,
     "metadata": {},
     "output_type": "execute_result"
    }
   ],
   "source": [
    "df"
   ]
  },
  {
   "cell_type": "code",
   "execution_count": 2590,
   "id": "52f3d245-2eac-44de-bbf1-502e61bccb7f",
   "metadata": {},
   "outputs": [],
   "source": [
    "df['r_growth'] = df['rval'].pct_change()"
   ]
  },
  {
   "cell_type": "code",
   "execution_count": 2591,
   "id": "a50695ba-6b14-470e-be82-26cb63c4dea3",
   "metadata": {},
   "outputs": [],
   "source": [
    "df['c_growth'] = df['cases'].pct_change()"
   ]
  },
  {
   "cell_type": "code",
   "execution_count": 2592,
   "id": "4a772ec1-1d2a-4718-9014-ab7e321fc57e",
   "metadata": {},
   "outputs": [
    {
     "name": "stderr",
     "output_type": "stream",
     "text": [
      "C:\\Users\\TgMiles\\anaconda3\\lib\\site-packages\\pandas\\core\\indexing.py:1732: SettingWithCopyWarning: \n",
      "A value is trying to be set on a copy of a slice from a DataFrame\n",
      "\n",
      "See the caveats in the documentation: https://pandas.pydata.org/pandas-docs/stable/user_guide/indexing.html#returning-a-view-versus-a-copy\n",
      "  self._setitem_single_block(indexer, value, name)\n"
     ]
    }
   ],
   "source": [
    "# Fill empty rows\n",
    "df['r_growth'].iloc[0] = 0.05\n",
    "df['c_growth'].iloc[0] = 0.25\n"
   ]
  },
  {
   "cell_type": "code",
   "execution_count": 2593,
   "id": "dd89c7f2-3b97-4afd-8e8f-3a9073d3418e",
   "metadata": {},
   "outputs": [
    {
     "data": {
      "text/html": [
       "<div>\n",
       "<style scoped>\n",
       "    .dataframe tbody tr th:only-of-type {\n",
       "        vertical-align: middle;\n",
       "    }\n",
       "\n",
       "    .dataframe tbody tr th {\n",
       "        vertical-align: top;\n",
       "    }\n",
       "\n",
       "    .dataframe thead th {\n",
       "        text-align: right;\n",
       "    }\n",
       "</style>\n",
       "<table border=\"1\" class=\"dataframe\">\n",
       "  <thead>\n",
       "    <tr style=\"text-align: right;\">\n",
       "      <th></th>\n",
       "      <th>index</th>\n",
       "      <th>date</th>\n",
       "      <th>cases</th>\n",
       "      <th>rval</th>\n",
       "      <th>year</th>\n",
       "      <th>r_growth</th>\n",
       "      <th>c_growth</th>\n",
       "    </tr>\n",
       "  </thead>\n",
       "  <tbody>\n",
       "    <tr>\n",
       "      <th>57</th>\n",
       "      <td>61</td>\n",
       "      <td>2020-05-02</td>\n",
       "      <td>743</td>\n",
       "      <td>0.85</td>\n",
       "      <td>2020</td>\n",
       "      <td>0.036585</td>\n",
       "      <td>-0.087224</td>\n",
       "    </tr>\n",
       "    <tr>\n",
       "      <th>58</th>\n",
       "      <td>62</td>\n",
       "      <td>2020-05-03</td>\n",
       "      <td>756</td>\n",
       "      <td>0.86</td>\n",
       "      <td>2020</td>\n",
       "      <td>0.011765</td>\n",
       "      <td>0.017497</td>\n",
       "    </tr>\n",
       "  </tbody>\n",
       "</table>\n",
       "</div>"
      ],
      "text/plain": [
       "    index       date  cases  rval  year  r_growth  c_growth\n",
       "57     61 2020-05-02    743  0.85  2020  0.036585 -0.087224\n",
       "58     62 2020-05-03    756  0.86  2020  0.011765  0.017497"
      ]
     },
     "execution_count": 2593,
     "metadata": {},
     "output_type": "execute_result"
    }
   ],
   "source": [
    "df.iloc[[1,2]]"
   ]
  },
  {
   "cell_type": "code",
   "execution_count": 2594,
   "id": "65e96fdb-e39b-4bfd-a10b-1176c53123a1",
   "metadata": {},
   "outputs": [],
   "source": [
    "# Calculate r-growth mean over a 7 day span\n",
    "mean_of_x_days = 7 # needs to be an odd number: e.g. 7 means the day itself and 3 days before and after\n",
    "day_span = int((mean_of_x_days - 1) / 2)"
   ]
  },
  {
   "cell_type": "code",
   "execution_count": 2595,
   "id": "7be2a3d3-2976-4e28-b9fe-90f9d8aaeab4",
   "metadata": {},
   "outputs": [],
   "source": [
    "# df['r_growth'].iloc[0:7].mean()\n",
    "\n",
    "growth_avg = []\n",
    "i = 0\n",
    "for row in df['r_growth']:\n",
    "    if i < 3:\n",
    "        growth_avg.append(0)\n",
    "        i = i+1\n",
    "    else:\n",
    "        growth_avg.append(df['r_growth'].iloc[i-day_span:i+day_span].mean())\n",
    "        i = i+1"
   ]
  },
  {
   "cell_type": "code",
   "execution_count": 2596,
   "id": "cb0df834-9ce4-443b-84a4-c7e553fe8085",
   "metadata": {},
   "outputs": [],
   "source": [
    "df['growth_avg'] = growth_avg"
   ]
  },
  {
   "cell_type": "markdown",
   "id": "a469b2b6-1778-41e6-a706-5bfda6d65c37",
   "metadata": {},
   "source": [
    "## Calculate number of consecutive days for r_growth"
   ]
  },
  {
   "cell_type": "code",
   "execution_count": 2597,
   "id": "9212f492-5394-4943-97a5-d96604c5783c",
   "metadata": {},
   "outputs": [
    {
     "name": "stderr",
     "output_type": "stream",
     "text": [
      "C:\\Users\\TgMiles\\anaconda3\\lib\\site-packages\\pandas\\core\\indexing.py:1732: SettingWithCopyWarning: \n",
      "A value is trying to be set on a copy of a slice from a DataFrame\n",
      "\n",
      "See the caveats in the documentation: https://pandas.pydata.org/pandas-docs/stable/user_guide/indexing.html#returning-a-view-versus-a-copy\n",
      "  self._setitem_single_block(indexer, value, name)\n"
     ]
    }
   ],
   "source": [
    "#todo: count days with decreasing r_growth\n",
    "df['rg_cd'] = 0 # consecutive days of r_growth\n",
    "i = 0\n",
    "for row in df['r_growth']:\n",
    "    if i == 0: # skip for i = 0\n",
    "        df['rg_cd'].iloc[i] = 0\n",
    "        i = i+1\n",
    "        continue\n",
    "    if df['r_growth'].iloc[i] >= 0: # add one day if r_growth >= 0 \n",
    "        df['rg_cd'].iloc[i] = df['rg_cd'].iloc[i-1] + 1\n",
    "        i = i+1\n",
    "    else:\n",
    "        i = i+1"
   ]
  },
  {
   "cell_type": "markdown",
   "id": "b8c08dfc-ed0b-454b-972b-a12b99867f9a",
   "metadata": {},
   "source": [
    "## Calculate number of days with r_growth >=0  in the last x days"
   ]
  },
  {
   "cell_type": "code",
   "execution_count": 2598,
   "id": "1803439d-006a-4bf8-b571-020711f5dbe7",
   "metadata": {},
   "outputs": [],
   "source": [
    "# (df['r_growth'] == 0).value_counts()"
   ]
  },
  {
   "cell_type": "code",
   "execution_count": 2599,
   "id": "fae604d2-aeb0-45cd-881e-de30e3a6fd26",
   "metadata": {},
   "outputs": [],
   "source": [
    "#todo: does it matter if I chose >= or >\n",
    "df['rg_30'] = 0 # number of days with r_growth >= 0 in the last 30 days\n",
    "df['rg_14'] = 0\n",
    "df['rg_7'] = 0\n",
    "i = 0\n",
    "dayspan = 0\n",
    "for row in df['r_growth']:    \n",
    "    dayspan = 0 if i-30 <0 else i-30\n",
    "    df['rg_30'].iloc[i] = (sum(df['r_growth'].iloc[dayspan:i]>0))        \n",
    "    dayspan = 0 if i-14 <0 else i-14\n",
    "    df['rg_14'].iloc[i] = (sum(df['r_growth'].iloc[dayspan:i]>0))\n",
    "    dayspan = 0 if i-7 <0 else i-7\n",
    "    # print('i: ' + str(i) + ', ds: ' + str(dayspan) + ', v: ' + str(sum(df['r_growth'].iloc[i-7:i]>0)) + ', v: ' + str(sum(df['r_growth'].iloc[dayspan:i]>0)) + '\\n' )\n",
    "    df['rg_7'].iloc[i] = (sum(df['r_growth'].iloc[dayspan:i]>0))        \n",
    "    i = i+1"
   ]
  },
  {
   "cell_type": "markdown",
   "id": "22278613-3e1b-4757-9e5d-1241b2e8eb0c",
   "metadata": {},
   "source": [
    "# Some basic analysis"
   ]
  },
  {
   "cell_type": "markdown",
   "id": "c4a786cc-370f-402d-8c5d-d77267de9de5",
   "metadata": {},
   "source": [
    "## Regarding R"
   ]
  },
  {
   "cell_type": "markdown",
   "id": "263f11b3-34b5-47dd-ba8f-13cde25c79bc",
   "metadata": {},
   "source": [
    "### group by R growth"
   ]
  },
  {
   "cell_type": "code",
   "execution_count": 2600,
   "id": "590d0ea1-4855-407b-8039-bceb8b6bbca3",
   "metadata": {},
   "outputs": [
    {
     "name": "stdout",
     "output_type": "stream",
     "text": [
      "count    245.000000\n",
      "mean       0.001390\n",
      "std        0.034239\n",
      "min       -0.201923\n",
      "25%       -0.017544\n",
      "50%        0.000000\n",
      "75%        0.019608\n",
      "max        0.201681\n",
      "Name: r_growth, dtype: float64\n",
      "count    245.000000\n",
      "mean       0.001111\n",
      "std        0.019637\n",
      "min       -0.073684\n",
      "25%       -0.011628\n",
      "50%        0.000000\n",
      "75%        0.012500\n",
      "max        0.065217\n",
      "Name: r_growth, dtype: float64\n"
     ]
    }
   ],
   "source": [
    "print(df['r_growth'][df['year'] == 2020].describe())\n",
    "print(df['r_growth'][df['year'] == 2021].describe())\n"
   ]
  },
  {
   "cell_type": "code",
   "execution_count": 2601,
   "id": "a36301ae-2fd9-45bf-9b74-d3e944f29965",
   "metadata": {},
   "outputs": [
    {
     "name": "stdout",
     "output_type": "stream",
     "text": [
      "2020\n",
      "(-0.203, -0.0175]    62\n",
      "(-0.0175, 0.0]       74\n",
      "(0.0, 0.0196]        49\n",
      "(0.0196, 0.202]      60\n",
      "Name: r_growth, dtype: int64\n",
      "\n",
      "\n",
      "2021\n",
      "(-0.0747, -0.0116]    63\n",
      "(-0.0116, 0.0]        85\n",
      "(0.0, 0.0125]         36\n",
      "(0.0125, 0.0652]      61\n",
      "Name: r_growth, dtype: int64\n"
     ]
    }
   ],
   "source": [
    "qbins = pd.qcut(df['r_growth'][df['year'] == 2020],4)\n",
    "print('2020')\n",
    "print(qbins.value_counts().sort_index(ascending=True))\n",
    "print('\\n')\n",
    "print('2021')\n",
    "qbins = pd.qcut(df['r_growth'][df['year'] == 2021],4)\n",
    "print(qbins.value_counts().sort_index(ascending=True))\n"
   ]
  },
  {
   "cell_type": "code",
   "execution_count": 2602,
   "id": "f540b6f8-a65e-4e33-bf39-eebb38daa4e6",
   "metadata": {},
   "outputs": [
    {
     "name": "stdout",
     "output_type": "stream",
     "text": [
      "2020\n",
      "(-0.202, -0.02]    49\n",
      "(-0.02, 0.0]       86\n",
      "(0.0, 0.02]        51\n",
      "(0.02, 0.202]      58\n",
      "Name: r_growth, dtype: int64\n",
      "\n",
      "\n",
      "2021\n",
      "(-0.0737, -0.02]     27\n",
      "(-0.02, 0.0]        120\n",
      "(0.0, 0.02]          64\n",
      "(0.02, 0.0652]       33\n",
      "Name: r_growth, dtype: int64\n"
     ]
    }
   ],
   "source": [
    "min = df['r_growth'][df['year'] == 2020].min()\n",
    "max = df['r_growth'][df['year'] == 2020].max()\n",
    "bins = pd.cut(df['r_growth'][df['year'] == 2020],[min, -0.02, 0, 0.02, max])\n",
    "print('2020')\n",
    "print(bins.value_counts(dropna=True).sort_index(ascending=True))\n",
    "\n",
    "min = df['r_growth'][df['year'] == 2021].min()\n",
    "max = df['r_growth'][df['year'] == 2021].max()\n",
    "bins = pd.cut(df['r_growth'][df['year'] == 2021],[min, -0.02, 0, 0.02, max])\n",
    "print('\\n')\n",
    "print('2021')\n",
    "print(bins.value_counts(dropna=True).sort_index(ascending=True))\n",
    "\n",
    "# so in avg R increased & decreased slower in 2021 "
   ]
  },
  {
   "cell_type": "markdown",
   "id": "ecaaee25-63ec-4612-be90-85fafcac6ae9",
   "metadata": {},
   "source": [
    "### group by R"
   ]
  },
  {
   "cell_type": "code",
   "execution_count": 2603,
   "id": "0864cb63-1bd2-48cc-8617-cbcd8326954d",
   "metadata": {},
   "outputs": [
    {
     "name": "stdout",
     "output_type": "stream",
     "text": [
      "2020\n",
      "(0.729, 0.928]    49\n",
      "(0.928, 1.0]      50\n",
      "(1.0, 1.084]      48\n",
      "(1.084, 1.17]     55\n",
      "(1.17, 1.48]      43\n",
      "Name: rval, dtype: int64\n",
      "\n",
      "\n",
      "2021\n",
      "(0.679, 0.85]    53\n",
      "(0.85, 0.96]     48\n",
      "(0.96, 1.09]     47\n",
      "(1.09, 1.2]      53\n",
      "(1.2, 1.33]      44\n",
      "Name: rval, dtype: int64\n"
     ]
    }
   ],
   "source": [
    "qbins = pd.qcut(df['rval'][df['year'] == 2020],5)\n",
    "print('2020')\n",
    "print(qbins.value_counts().sort_index(ascending=True))\n",
    "print('\\n')\n",
    "print('2021')\n",
    "qbins = pd.qcut(df['rval'][df['year'] == 2021],5)\n",
    "print(qbins.value_counts().sort_index(ascending=True))\n"
   ]
  },
  {
   "cell_type": "code",
   "execution_count": 2604,
   "id": "00b2b1bc-5448-4e4e-b6f9-648a94687595",
   "metadata": {},
   "outputs": [
    {
     "name": "stdout",
     "output_type": "stream",
     "text": [
      "2020\n",
      "(0.73, 1.0]    97\n",
      "(1.0, 1.1]     56\n",
      "(1.1, 1.2]     58\n",
      "(1.2, 1.48]    32\n",
      "Name: rval, dtype: int64\n",
      "\n",
      "\n",
      "2021\n",
      "(0.68, 1.0]    109\n",
      "(1.0, 1.1]      38\n",
      "(1.1, 1.2]      53\n",
      "(1.2, 1.33]     44\n",
      "Name: rval, dtype: int64\n"
     ]
    }
   ],
   "source": [
    "min = df['rval'][df['year'] == 2020].min()\n",
    "max = df['rval'][df['year'] == 2020].max()\n",
    "bins = pd.cut(df['rval'][df['year'] == 2020],[min, 1, 1.1, 1.2, max])\n",
    "print('2020')\n",
    "print(bins.value_counts(dropna=True).sort_index(ascending=True))\n",
    "print('\\n')\n",
    "\n",
    "min = df['rval'][df['year'] == 2021].min()\n",
    "max = df['rval'][df['year'] == 2021].max()\n",
    "bins = pd.cut(df['rval'][df['year'] == 2021],[min, 1, 1.1, 1.2, max])\n",
    "print('2021')\n",
    "print(bins.value_counts(dropna=True).sort_index(ascending=True))\n"
   ]
  },
  {
   "cell_type": "markdown",
   "id": "3ba5b80f-ddd4-4294-ba8f-1b69f5640e72",
   "metadata": {},
   "source": [
    "### Total days with R growing/declining per year"
   ]
  },
  {
   "cell_type": "code",
   "execution_count": 2605,
   "id": "b0310100-032d-4970-9251-6d14cfb92115",
   "metadata": {},
   "outputs": [
    {
     "name": "stdout",
     "output_type": "stream",
     "text": [
      "Days with R growing:\n",
      "2020: 109\n",
      "2021: 97\n",
      "Days with R declining:\n",
      "2020: 100\n",
      "2021: 99\n"
     ]
    }
   ],
   "source": [
    "# Days with R growing & declining\n",
    "print('Days with R growing:')\n",
    "print('2020: ' + str(df['date'][((df.year == 2020) & (df.r_growth > 0))].count()))\n",
    "print('2021: ' + str(df['date'][((df.year == 2021) & (df.r_growth > 0))].count()))\n",
    "\n",
    "print('Days with R declining:')\n",
    "print('2020: ' + str(df['date'][((df.year == 2020) & (df.r_growth < 0))].count()))\n",
    "print('2021: ' + str(df['date'][((df.year == 2021) & (df.r_growth < 0))].count()))"
   ]
  },
  {
   "cell_type": "markdown",
   "id": "597aaceb-5b84-4788-80f2-31ca561aa0ad",
   "metadata": {},
   "source": [
    "### Avg days of R growing in a certain timespan (7, 14, 30 days)"
   ]
  },
  {
   "cell_type": "code",
   "execution_count": 2606,
   "id": "f7251976-0d40-411e-82e4-c4246f339128",
   "metadata": {},
   "outputs": [
    {
     "data": {
      "text/plain": [
       "year\n",
       "2020    12.873469\n",
       "2021    11.391837\n",
       "Name: rg_30, dtype: float64"
      ]
     },
     "metadata": {},
     "output_type": "display_data"
    },
    {
     "data": {
      "text/plain": [
       "year\n",
       "2020    6.057143\n",
       "2021    5.346939\n",
       "Name: rg_14, dtype: float64"
      ]
     },
     "metadata": {},
     "output_type": "display_data"
    },
    {
     "data": {
      "text/plain": [
       "year\n",
       "2020    3.057143\n",
       "2021    2.714286\n",
       "Name: rg_7, dtype: float64"
      ]
     },
     "metadata": {},
     "output_type": "display_data"
    }
   ],
   "source": [
    "display(df.groupby(['year'])['rg_30'].mean())\n",
    "display(df.groupby(['year'])['rg_14'].mean())\n",
    "display(df.groupby(['year'])['rg_7'].mean())"
   ]
  },
  {
   "cell_type": "code",
   "execution_count": 2607,
   "id": "fde68385-9c52-40ce-886e-d7016a742e13",
   "metadata": {},
   "outputs": [
    {
     "data": {
      "text/plain": [
       "year\n",
       "2020    12.954128\n",
       "2021    12.865979\n",
       "Name: rg_30, dtype: float64"
      ]
     },
     "metadata": {},
     "output_type": "display_data"
    },
    {
     "data": {
      "text/plain": [
       "year\n",
       "2020    6.403670\n",
       "2021    6.824742\n",
       "Name: rg_14, dtype: float64"
      ]
     },
     "metadata": {},
     "output_type": "display_data"
    },
    {
     "data": {
      "text/plain": [
       "year\n",
       "2020    3.440367\n",
       "2021    4.113402\n",
       "Name: rg_7, dtype: float64"
      ]
     },
     "metadata": {},
     "output_type": "display_data"
    }
   ],
   "source": [
    "display(df[df['r_growth'] > 0].groupby(['year'])['rg_30'].mean())\n",
    "display(df[df['r_growth'] > 0].groupby(['year'])['rg_14'].mean())\n",
    "display(df[df['r_growth'] > 0].groupby(['year'])['rg_7'].mean())"
   ]
  },
  {
   "cell_type": "markdown",
   "id": "675dc550-80b0-4736-b6b7-a690bd456f2b",
   "metadata": {},
   "source": [
    "### Days with x days R growing within the last 30 days"
   ]
  },
  {
   "cell_type": "code",
   "execution_count": 2608,
   "id": "eb6c3381-4596-490d-96a7-543b8dd76c13",
   "metadata": {},
   "outputs": [
    {
     "data": {
      "text/plain": [
       "year  rg_30\n",
       "2020  0         1\n",
       "      1         1\n",
       "      2         1\n",
       "      3         1\n",
       "      4         1\n",
       "      5         9\n",
       "      6         9\n",
       "      7         5\n",
       "      8         5\n",
       "      9        21\n",
       "      10       33\n",
       "      11       10\n",
       "      12       14\n",
       "      13       15\n",
       "      14       21\n",
       "      15       24\n",
       "      16       19\n",
       "      17       22\n",
       "      18       11\n",
       "      19        8\n",
       "      20        7\n",
       "      21        2\n",
       "      22        2\n",
       "      23        2\n",
       "      24        1\n",
       "2021  1         8\n",
       "      2         8\n",
       "      3         5\n",
       "      4        23\n",
       "      5         6\n",
       "      6        15\n",
       "      7        12\n",
       "      8        10\n",
       "      9        10\n",
       "      10       14\n",
       "      11       19\n",
       "      12       23\n",
       "      13       17\n",
       "      14        5\n",
       "      15        4\n",
       "      16        8\n",
       "      17        8\n",
       "      18       12\n",
       "      19        7\n",
       "      20        6\n",
       "      21        5\n",
       "      22        8\n",
       "      23        4\n",
       "      24        2\n",
       "      25        2\n",
       "      26        2\n",
       "      27        2\n",
       "Name: rg_30, dtype: int64"
      ]
     },
     "metadata": {},
     "output_type": "display_data"
    }
   ],
   "source": [
    "display(df.groupby(['year', 'rg_30'])['rg_30'].count())"
   ]
  },
  {
   "cell_type": "markdown",
   "id": "a651a894-f9ab-4571-8f65-6bcb4e0cd22f",
   "metadata": {},
   "source": [
    "### R mean depending on days of R growing in certain timespan"
   ]
  },
  {
   "cell_type": "code",
   "execution_count": 2609,
   "id": "2a776595-d182-49af-8249-418d2300c0ad",
   "metadata": {},
   "outputs": [
    {
     "data": {
      "text/plain": [
       "year  rg_30\n",
       "2020  0        0.820000\n",
       "      1        0.850000\n",
       "      2        0.860000\n",
       "      3        0.890000\n",
       "      4        0.900000\n",
       "      5        0.930000\n",
       "      6        0.935000\n",
       "      7        0.963333\n",
       "      8        0.980000\n",
       "      9        1.013333\n",
       "      10       0.952857\n",
       "      11       1.036667\n",
       "      12       1.043000\n",
       "      13       1.072222\n",
       "      14       1.102000\n",
       "      15       1.019286\n",
       "      16       1.112000\n",
       "      17       1.233333\n",
       "      18       1.286667\n",
       "      19       1.291667\n",
       "      20       1.383333\n",
       "      21       1.400000\n",
       "      22       1.420000\n",
       "      23       1.440000\n",
       "2021  1        0.890000\n",
       "      2        0.920000\n",
       "      3        0.955000\n",
       "      4        0.923333\n",
       "      5        0.950000\n",
       "      6        0.881250\n",
       "      7        0.990000\n",
       "      8        0.990000\n",
       "      9        0.925000\n",
       "      10       0.892500\n",
       "      11       1.038000\n",
       "      12       1.126923\n",
       "      13       1.140000\n",
       "      14       0.925000\n",
       "      15       0.935000\n",
       "      16       1.023333\n",
       "      17       1.096000\n",
       "      18       1.000000\n",
       "      19       1.170000\n",
       "      20       1.176667\n",
       "      21       1.183333\n",
       "      22       1.228333\n",
       "      23       1.290000\n",
       "      24       1.300000\n",
       "      25       1.320000\n",
       "      26       1.330000\n",
       "Name: rval, dtype: float64"
      ]
     },
     "metadata": {},
     "output_type": "display_data"
    },
    {
     "data": {
      "text/plain": [
       "year  rg_14\n",
       "2020  0        0.883333\n",
       "      1        0.910000\n",
       "      2        0.936667\n",
       "      3        0.978182\n",
       "      4        1.001250\n",
       "      5        0.966429\n",
       "      6        1.063333\n",
       "      7        1.013000\n",
       "      8        1.102222\n",
       "      9        1.203158\n",
       "      10       1.277500\n",
       "      11       1.406667\n",
       "      12       1.360000\n",
       "      13       1.385000\n",
       "2021  0        0.922000\n",
       "      1        0.945000\n",
       "      2        0.970000\n",
       "      3        0.955000\n",
       "      4        1.014286\n",
       "      5        1.036429\n",
       "      6        0.974167\n",
       "      7        1.032222\n",
       "      8        1.102857\n",
       "      9        1.114000\n",
       "      10       1.172500\n",
       "      11       1.065000\n",
       "      12       1.238571\n",
       "      13       1.105000\n",
       "      14       1.112222\n",
       "Name: rval, dtype: float64"
      ]
     },
     "metadata": {},
     "output_type": "display_data"
    },
    {
     "data": {
      "text/plain": [
       "year  rg_7\n",
       "2020  0       0.932222\n",
       "      1       0.965833\n",
       "      2       1.000667\n",
       "      3       1.079583\n",
       "      4       1.039091\n",
       "      5       1.110000\n",
       "      6       1.271176\n",
       "      7       1.244000\n",
       "2021  0       0.951250\n",
       "      1       0.947273\n",
       "      2       1.019091\n",
       "      3       0.963636\n",
       "      4       1.057500\n",
       "      5       1.160000\n",
       "      6       1.152308\n",
       "      7       1.064583\n",
       "Name: rval, dtype: float64"
      ]
     },
     "metadata": {},
     "output_type": "display_data"
    }
   ],
   "source": [
    "display(df[df['r_growth'] > 0].groupby(['year', 'rg_30'])['rval'].mean())\n",
    "display(df[df['r_growth'] > 0].groupby(['year', 'rg_14'])['rval'].mean())\n",
    "display(df[df['r_growth'] > 0].groupby(['year', 'rg_7'])['rval'].mean())"
   ]
  },
  {
   "cell_type": "markdown",
   "id": "845c3138-5e51-4ce7-af6b-0c70602bd4d3",
   "metadata": {},
   "source": [
    "### R growth mean depending on days of R growing in certain timespan"
   ]
  },
  {
   "cell_type": "code",
   "execution_count": 2610,
   "id": "5ad37485-c3da-4d33-9afd-7b41928ef056",
   "metadata": {},
   "outputs": [
    {
     "data": {
      "text/plain": [
       "year  rg_30\n",
       "2020  0        0.050000\n",
       "      1        0.036585\n",
       "      2        0.011765\n",
       "      3        0.034884\n",
       "      4        0.011236\n",
       "      5        0.016256\n",
       "      6        0.033946\n",
       "      7        0.025056\n",
       "      8        0.017060\n",
       "      9        0.022695\n",
       "      10       0.035587\n",
       "      11       0.023010\n",
       "      12       0.022242\n",
       "      13       0.018502\n",
       "      14       0.018429\n",
       "      15       0.038675\n",
       "      16       0.024311\n",
       "      17       0.044487\n",
       "      18       0.020996\n",
       "      19       0.029659\n",
       "      20       0.009751\n",
       "      21       0.014493\n",
       "      22       0.014286\n",
       "      23       0.014085\n",
       "2021  1        0.023265\n",
       "      2        0.033838\n",
       "      3        0.038043\n",
       "      4        0.024810\n",
       "      5        0.027130\n",
       "      6        0.025110\n",
       "      7        0.016860\n",
       "      8        0.023732\n",
       "      9        0.013606\n",
       "      10       0.014117\n",
       "      11       0.015841\n",
       "      12       0.013858\n",
       "      13       0.015107\n",
       "      14       0.017749\n",
       "      15       0.011046\n",
       "      16       0.013271\n",
       "      17       0.018072\n",
       "      18       0.027572\n",
       "      19       0.021969\n",
       "      20       0.024656\n",
       "      21       0.017251\n",
       "      22       0.028686\n",
       "      23       0.015748\n",
       "      24       0.007752\n",
       "      25       0.015385\n",
       "      26       0.007576\n",
       "Name: r_growth, dtype: float64"
      ]
     },
     "metadata": {},
     "output_type": "display_data"
    },
    {
     "data": {
      "text/plain": [
       "year  rg_14\n",
       "2020  0        0.032187\n",
       "      1        0.030696\n",
       "      2        0.029004\n",
       "      3        0.021002\n",
       "      4        0.028098\n",
       "      5        0.033356\n",
       "      6        0.023611\n",
       "      7        0.020543\n",
       "      8        0.025778\n",
       "      9        0.023175\n",
       "      10       0.023772\n",
       "      11       0.086694\n",
       "      12       0.038168\n",
       "      13       0.010976\n",
       "2021  0        0.015826\n",
       "      1        0.022276\n",
       "      2        0.028784\n",
       "      3        0.021661\n",
       "      4        0.024384\n",
       "      5        0.018985\n",
       "      6        0.016104\n",
       "      7        0.017367\n",
       "      8        0.011870\n",
       "      9        0.024714\n",
       "      10       0.020003\n",
       "      11       0.025379\n",
       "      12       0.014841\n",
       "      13       0.009319\n",
       "      14       0.032860\n",
       "Name: r_growth, dtype: float64"
      ]
     },
     "metadata": {},
     "output_type": "display_data"
    },
    {
     "data": {
      "text/plain": [
       "year  rg_7\n",
       "2020  0       0.044680\n",
       "      1       0.028846\n",
       "      2       0.021849\n",
       "      3       0.023911\n",
       "      4       0.025673\n",
       "      5       0.019056\n",
       "      6       0.038019\n",
       "      7       0.011455\n",
       "2021  0       0.013913\n",
       "      1       0.020109\n",
       "      2       0.021426\n",
       "      3       0.018831\n",
       "      4       0.018082\n",
       "      5       0.015715\n",
       "      6       0.020471\n",
       "      7       0.024837\n",
       "Name: r_growth, dtype: float64"
      ]
     },
     "metadata": {},
     "output_type": "display_data"
    }
   ],
   "source": [
    "display(df[df['r_growth'] > 0].groupby(['year', 'rg_30'])['r_growth'].mean())\n",
    "display(df[df['r_growth'] > 0].groupby(['year', 'rg_14'])['r_growth'].mean())\n",
    "display(df[df['r_growth'] > 0].groupby(['year', 'rg_7'])['r_growth'].mean())"
   ]
  },
  {
   "cell_type": "markdown",
   "id": "bb4d0e48-716a-455f-a429-b5d0053d284e",
   "metadata": {},
   "source": [
    "### avg R and R_growth per year"
   ]
  },
  {
   "cell_type": "code",
   "execution_count": 2611,
   "id": "be4f0111-20db-4f1a-ab7c-48395a5d79b4",
   "metadata": {},
   "outputs": [
    {
     "data": {
      "text/plain": [
       "year\n",
       "2020    1.058735\n",
       "2021    1.025796\n",
       "Name: rval, dtype: float64"
      ]
     },
     "metadata": {},
     "output_type": "display_data"
    }
   ],
   "source": [
    "# avg R value over the year\n",
    "with pd.option_context('display.max_rows', None,):\n",
    "    display(df.groupby(['year'])['rval'].mean())"
   ]
  },
  {
   "cell_type": "code",
   "execution_count": 2612,
   "id": "6108717d-94cb-4298-b3df-bdd6b3d92285",
   "metadata": {},
   "outputs": [
    {
     "data": {
      "text/plain": [
       "year\n",
       "2020    0.001390\n",
       "2021    0.001111\n",
       "Name: r_growth, dtype: float64"
      ]
     },
     "metadata": {},
     "output_type": "display_data"
    },
    {
     "data": {
      "text/plain": [
       "year\n",
       "2020    0.026980\n",
       "2021    0.020155\n",
       "Name: r_growth, dtype: float64"
      ]
     },
     "metadata": {},
     "output_type": "display_data"
    }
   ],
   "source": [
    "# avg R growth over the year (close to 0 as expected)\n",
    "with pd.option_context('display.max_rows', None,):\n",
    "    display(df.groupby(['year'])['r_growth'].mean())\n",
    "    \n",
    "# avg R growth only regarding the days where R is growing    \n",
    "with pd.option_context('display.max_rows', None,):\n",
    "    display(df[df['r_growth'] > 0].groupby(['year'])['r_growth'].mean())\n",
    "\n"
   ]
  },
  {
   "cell_type": "markdown",
   "id": "3505a043-a681-486b-94f3-8e55abae3f22",
   "metadata": {},
   "source": [
    "### avg R depending on how many consecutive days R has grown"
   ]
  },
  {
   "cell_type": "code",
   "execution_count": 2613,
   "id": "c87c5bda-f15d-4793-a51f-c40867f2e112",
   "metadata": {},
   "outputs": [
    {
     "data": {
      "text/plain": [
       "year  rg_cd\n",
       "2020  0        0.820000\n",
       "      1        1.051333\n",
       "      2        1.046429\n",
       "      3        1.051111\n",
       "      4        1.093529\n",
       "      5        1.069000\n",
       "      6        1.022857\n",
       "      7        1.066000\n",
       "      8        1.073333\n",
       "      9        1.107500\n",
       "      10       1.130000\n",
       "      11       1.186667\n",
       "      12       1.190000\n",
       "      13       1.220000\n",
       "      14       1.310000\n",
       "      15       1.360000\n",
       "      16       1.380000\n",
       "      17       1.390000\n",
       "2021  1        1.013333\n",
       "      2        0.978750\n",
       "      3        1.015000\n",
       "      4        1.076667\n",
       "      5        0.992857\n",
       "      6        0.991429\n",
       "      7        0.988000\n",
       "      8        0.997500\n",
       "      9        0.965000\n",
       "      10       0.995000\n",
       "      11       1.030000\n",
       "      12       1.052500\n",
       "      13       1.075000\n",
       "      14       1.106667\n",
       "      15       1.085000\n",
       "      16       1.110000\n",
       "      17       1.130000\n",
       "      18       1.160000\n",
       "      19       1.175000\n",
       "      20       1.150000\n",
       "      21       1.200000\n",
       "      22       1.240000\n",
       "      23       1.270000\n",
       "      26       1.290000\n",
       "      27       1.300000\n",
       "      28       1.320000\n",
       "      29       1.330000\n",
       "Name: rval, dtype: float64"
      ]
     },
     "metadata": {},
     "output_type": "display_data"
    }
   ],
   "source": [
    "with pd.option_context('display.max_rows', None,):\n",
    "    display(df[df['r_growth'] > 0].groupby(['year', 'rg_cd'])['rval'].mean())"
   ]
  },
  {
   "cell_type": "markdown",
   "id": "3a274e6a-65c3-42f5-be2a-f8a4ee54d1c3",
   "metadata": {},
   "source": [
    "### avg R growth depending on how many consecutive days R has grown"
   ]
  },
  {
   "cell_type": "code",
   "execution_count": 2614,
   "id": "2d73600a-0102-43d1-8ec5-fcb63416e410",
   "metadata": {},
   "outputs": [
    {
     "data": {
      "text/plain": [
       "year  rg_cd\n",
       "2020  0        0.050000\n",
       "      1        0.020351\n",
       "      2        0.029796\n",
       "      3        0.025944\n",
       "      4        0.035142\n",
       "      5        0.022036\n",
       "      6        0.026309\n",
       "      7        0.033803\n",
       "      8        0.035122\n",
       "      9        0.020493\n",
       "      10       0.020387\n",
       "      11       0.028751\n",
       "      12       0.021193\n",
       "      13       0.024673\n",
       "      14       0.023438\n",
       "      15       0.038168\n",
       "      16       0.014706\n",
       "      17       0.007246\n",
       "2021  1        0.010522\n",
       "      2        0.012628\n",
       "      3        0.022365\n",
       "      4        0.014825\n",
       "      5        0.016265\n",
       "      6        0.017036\n",
       "      7        0.021638\n",
       "      8        0.026161\n",
       "      9        0.020893\n",
       "      10       0.031389\n",
       "      11       0.035956\n",
       "      12       0.022279\n",
       "      13       0.021908\n",
       "      14       0.020940\n",
       "      15       0.019001\n",
       "      16       0.023797\n",
       "      17       0.018197\n",
       "      18       0.028542\n",
       "      19       0.013346\n",
       "      20       0.055046\n",
       "      21       0.043478\n",
       "      22       0.033333\n",
       "      23       0.024194\n",
       "      26       0.015748\n",
       "      27       0.007752\n",
       "      28       0.015385\n",
       "      29       0.007576\n",
       "Name: r_growth, dtype: float64"
      ]
     },
     "metadata": {},
     "output_type": "display_data"
    }
   ],
   "source": [
    "with pd.option_context('display.max_rows', None,):\n",
    "    display(df[df['r_growth'] > 0].groupby(['year', 'rg_cd'])['r_growth'].mean())"
   ]
  },
  {
   "cell_type": "markdown",
   "id": "732bb659-b117-4ebb-9525-729bc1110bd2",
   "metadata": {},
   "source": [
    "### days with x consecutive days of R growth"
   ]
  },
  {
   "cell_type": "code",
   "execution_count": 2615,
   "id": "dfa9eecb-f0a5-43c3-bfa6-3924ee4a2484",
   "metadata": {},
   "outputs": [
    {
     "data": {
      "text/plain": [
       "year  rg_cd\n",
       "2020  0        101\n",
       "      1         31\n",
       "      2         21\n",
       "      3         20\n",
       "      4         18\n",
       "      5         12\n",
       "      6          9\n",
       "      7          7\n",
       "      8          4\n",
       "      9          4\n",
       "      10         4\n",
       "      11         3\n",
       "      12         3\n",
       "      13         2\n",
       "      14         2\n",
       "      15         1\n",
       "      16         1\n",
       "      17         1\n",
       "      18         1\n",
       "2021  0         99\n",
       "      1         27\n",
       "      2         20\n",
       "      3         14\n",
       "      4         13\n",
       "      5         10\n",
       "      6          7\n",
       "      7          5\n",
       "      8          5\n",
       "      9          4\n",
       "      10         4\n",
       "      11         4\n",
       "      12         4\n",
       "      13         4\n",
       "      14         4\n",
       "      15         2\n",
       "      16         2\n",
       "      17         2\n",
       "      18         2\n",
       "      19         2\n",
       "      20         2\n",
       "      21         1\n",
       "      22         1\n",
       "      23         1\n",
       "      24         1\n",
       "      25         1\n",
       "      26         1\n",
       "      27         1\n",
       "      28         1\n",
       "      29         1\n",
       "Name: rg_cd, dtype: int64"
      ]
     },
     "metadata": {},
     "output_type": "display_data"
    }
   ],
   "source": [
    "with pd.option_context('display.max_rows', None,):\n",
    "    display(df.groupby(['year', 'rg_cd'])['rg_cd'].count())    "
   ]
  },
  {
   "cell_type": "code",
   "execution_count": 2616,
   "id": "e2f7ea9f-6356-4146-b078-20770a65ea51",
   "metadata": {},
   "outputs": [
    {
     "data": {
      "text/html": [
       "<div>\n",
       "<style scoped>\n",
       "    .dataframe tbody tr th:only-of-type {\n",
       "        vertical-align: middle;\n",
       "    }\n",
       "\n",
       "    .dataframe tbody tr th {\n",
       "        vertical-align: top;\n",
       "    }\n",
       "\n",
       "    .dataframe thead th {\n",
       "        text-align: right;\n",
       "    }\n",
       "</style>\n",
       "<table border=\"1\" class=\"dataframe\">\n",
       "  <thead>\n",
       "    <tr style=\"text-align: right;\">\n",
       "      <th></th>\n",
       "      <th>index</th>\n",
       "      <th>date</th>\n",
       "      <th>cases</th>\n",
       "      <th>rval</th>\n",
       "      <th>year</th>\n",
       "      <th>r_growth</th>\n",
       "      <th>c_growth</th>\n",
       "      <th>growth_avg</th>\n",
       "      <th>rg_cd</th>\n",
       "      <th>rg_30</th>\n",
       "      <th>rg_14</th>\n",
       "      <th>rg_7</th>\n",
       "    </tr>\n",
       "  </thead>\n",
       "  <tbody>\n",
       "    <tr>\n",
       "      <th>56</th>\n",
       "      <td>60</td>\n",
       "      <td>2020-05-01</td>\n",
       "      <td>814</td>\n",
       "      <td>0.82</td>\n",
       "      <td>2020</td>\n",
       "      <td>0.050000</td>\n",
       "      <td>0.250000</td>\n",
       "      <td>0.000000</td>\n",
       "      <td>0</td>\n",
       "      <td>0</td>\n",
       "      <td>0</td>\n",
       "      <td>0</td>\n",
       "    </tr>\n",
       "    <tr>\n",
       "      <th>57</th>\n",
       "      <td>61</td>\n",
       "      <td>2020-05-02</td>\n",
       "      <td>743</td>\n",
       "      <td>0.85</td>\n",
       "      <td>2020</td>\n",
       "      <td>0.036585</td>\n",
       "      <td>-0.087224</td>\n",
       "      <td>0.000000</td>\n",
       "      <td>1</td>\n",
       "      <td>1</td>\n",
       "      <td>1</td>\n",
       "      <td>1</td>\n",
       "    </tr>\n",
       "    <tr>\n",
       "      <th>58</th>\n",
       "      <td>62</td>\n",
       "      <td>2020-05-03</td>\n",
       "      <td>756</td>\n",
       "      <td>0.86</td>\n",
       "      <td>2020</td>\n",
       "      <td>0.011765</td>\n",
       "      <td>0.017497</td>\n",
       "      <td>0.000000</td>\n",
       "      <td>2</td>\n",
       "      <td>2</td>\n",
       "      <td>2</td>\n",
       "      <td>2</td>\n",
       "    </tr>\n",
       "    <tr>\n",
       "      <th>59</th>\n",
       "      <td>63</td>\n",
       "      <td>2020-05-04</td>\n",
       "      <td>891</td>\n",
       "      <td>0.89</td>\n",
       "      <td>2020</td>\n",
       "      <td>0.034884</td>\n",
       "      <td>0.178571</td>\n",
       "      <td>0.022226</td>\n",
       "      <td>3</td>\n",
       "      <td>3</td>\n",
       "      <td>3</td>\n",
       "      <td>3</td>\n",
       "    </tr>\n",
       "    <tr>\n",
       "      <th>60</th>\n",
       "      <td>64</td>\n",
       "      <td>2020-05-05</td>\n",
       "      <td>813</td>\n",
       "      <td>0.90</td>\n",
       "      <td>2020</td>\n",
       "      <td>0.011236</td>\n",
       "      <td>-0.087542</td>\n",
       "      <td>0.015766</td>\n",
       "      <td>4</td>\n",
       "      <td>4</td>\n",
       "      <td>4</td>\n",
       "      <td>4</td>\n",
       "    </tr>\n",
       "    <tr>\n",
       "      <th>...</th>\n",
       "      <td>...</td>\n",
       "      <td>...</td>\n",
       "      <td>...</td>\n",
       "      <td>...</td>\n",
       "      <td>...</td>\n",
       "      <td>...</td>\n",
       "      <td>...</td>\n",
       "      <td>...</td>\n",
       "      <td>...</td>\n",
       "      <td>...</td>\n",
       "      <td>...</td>\n",
       "      <td>...</td>\n",
       "    </tr>\n",
       "    <tr>\n",
       "      <th>661</th>\n",
       "      <td>665</td>\n",
       "      <td>2021-12-27</td>\n",
       "      <td>38089</td>\n",
       "      <td>1.09</td>\n",
       "      <td>2021</td>\n",
       "      <td>0.058252</td>\n",
       "      <td>0.224018</td>\n",
       "      <td>0.045724</td>\n",
       "      <td>10</td>\n",
       "      <td>5</td>\n",
       "      <td>4</td>\n",
       "      <td>4</td>\n",
       "    </tr>\n",
       "    <tr>\n",
       "      <th>662</th>\n",
       "      <td>666</td>\n",
       "      <td>2021-12-28</td>\n",
       "      <td>37520</td>\n",
       "      <td>1.13</td>\n",
       "      <td>2021</td>\n",
       "      <td>0.036697</td>\n",
       "      <td>-0.014939</td>\n",
       "      <td>0.041046</td>\n",
       "      <td>11</td>\n",
       "      <td>6</td>\n",
       "      <td>5</td>\n",
       "      <td>5</td>\n",
       "    </tr>\n",
       "    <tr>\n",
       "      <th>663</th>\n",
       "      <td>667</td>\n",
       "      <td>2021-12-29</td>\n",
       "      <td>34666</td>\n",
       "      <td>1.15</td>\n",
       "      <td>2021</td>\n",
       "      <td>0.017699</td>\n",
       "      <td>-0.076066</td>\n",
       "      <td>0.033026</td>\n",
       "      <td>12</td>\n",
       "      <td>7</td>\n",
       "      <td>6</td>\n",
       "      <td>6</td>\n",
       "    </tr>\n",
       "    <tr>\n",
       "      <th>664</th>\n",
       "      <td>668</td>\n",
       "      <td>2021-12-30</td>\n",
       "      <td>33152</td>\n",
       "      <td>1.17</td>\n",
       "      <td>2021</td>\n",
       "      <td>0.017391</td>\n",
       "      <td>-0.043674</td>\n",
       "      <td>0.029427</td>\n",
       "      <td>13</td>\n",
       "      <td>8</td>\n",
       "      <td>7</td>\n",
       "      <td>7</td>\n",
       "    </tr>\n",
       "    <tr>\n",
       "      <th>665</th>\n",
       "      <td>669</td>\n",
       "      <td>2021-12-31</td>\n",
       "      <td>34962</td>\n",
       "      <td>1.19</td>\n",
       "      <td>2021</td>\n",
       "      <td>0.017094</td>\n",
       "      <td>0.054597</td>\n",
       "      <td>0.022220</td>\n",
       "      <td>14</td>\n",
       "      <td>9</td>\n",
       "      <td>8</td>\n",
       "      <td>7</td>\n",
       "    </tr>\n",
       "  </tbody>\n",
       "</table>\n",
       "<p>490 rows × 12 columns</p>\n",
       "</div>"
      ],
      "text/plain": [
       "     index       date  cases  rval  year  r_growth  c_growth  growth_avg  \\\n",
       "56      60 2020-05-01    814  0.82  2020  0.050000  0.250000    0.000000   \n",
       "57      61 2020-05-02    743  0.85  2020  0.036585 -0.087224    0.000000   \n",
       "58      62 2020-05-03    756  0.86  2020  0.011765  0.017497    0.000000   \n",
       "59      63 2020-05-04    891  0.89  2020  0.034884  0.178571    0.022226   \n",
       "60      64 2020-05-05    813  0.90  2020  0.011236 -0.087542    0.015766   \n",
       "..     ...        ...    ...   ...   ...       ...       ...         ...   \n",
       "661    665 2021-12-27  38089  1.09  2021  0.058252  0.224018    0.045724   \n",
       "662    666 2021-12-28  37520  1.13  2021  0.036697 -0.014939    0.041046   \n",
       "663    667 2021-12-29  34666  1.15  2021  0.017699 -0.076066    0.033026   \n",
       "664    668 2021-12-30  33152  1.17  2021  0.017391 -0.043674    0.029427   \n",
       "665    669 2021-12-31  34962  1.19  2021  0.017094  0.054597    0.022220   \n",
       "\n",
       "     rg_cd  rg_30  rg_14  rg_7  \n",
       "56       0      0      0     0  \n",
       "57       1      1      1     1  \n",
       "58       2      2      2     2  \n",
       "59       3      3      3     3  \n",
       "60       4      4      4     4  \n",
       "..     ...    ...    ...   ...  \n",
       "661     10      5      4     4  \n",
       "662     11      6      5     5  \n",
       "663     12      7      6     6  \n",
       "664     13      8      7     7  \n",
       "665     14      9      8     7  \n",
       "\n",
       "[490 rows x 12 columns]"
      ]
     },
     "execution_count": 2616,
     "metadata": {},
     "output_type": "execute_result"
    }
   ],
   "source": [
    "df"
   ]
  },
  {
   "cell_type": "markdown",
   "id": "9d46ce38-ca18-4cbf-b8d6-7bd183a91d64",
   "metadata": {},
   "source": [
    "### Mean of days with x consecutive days of R growth"
   ]
  },
  {
   "cell_type": "code",
   "execution_count": 2617,
   "id": "021acf9f-6c45-4f74-9f13-e0639432050a",
   "metadata": {},
   "outputs": [
    {
     "name": "stdout",
     "output_type": "stream",
     "text": [
      "2.7142857142857144\n",
      "4.240816326530612\n",
      "1.5624060150375938\n"
     ]
    }
   ],
   "source": [
    "rg_cd_mean_2020 = (df['rg_cd'][((df['year'] == 2020) & (df['rg_cd'] >= 0))].mean())\n",
    "rg_cd_mean_2021 = (df['rg_cd'][((df['year'] == 2021) & (df['rg_cd'] >= 0))].mean())\n",
    "\n",
    "print(rg_cd_mean_2020)\n",
    "print(rg_cd_mean_2021)\n",
    "print(rg_cd_mean_2021/rg_cd_mean_2020)"
   ]
  },
  {
   "cell_type": "markdown",
   "id": "5c8be379-e3a6-4de0-ba9a-2e14c020b557",
   "metadata": {},
   "source": [
    "## Regarding cases"
   ]
  },
  {
   "cell_type": "markdown",
   "id": "b93fce1c-9d7d-4ffd-ab22-db87b85be6cf",
   "metadata": {},
   "source": [
    "### cases overall"
   ]
  },
  {
   "cell_type": "code",
   "execution_count": 2618,
   "id": "2e8446b6-1707-4adc-8731-439b737c012b",
   "metadata": {},
   "outputs": [
    {
     "data": {
      "text/plain": [
       "1642583"
      ]
     },
     "execution_count": 2618,
     "metadata": {},
     "output_type": "execute_result"
    }
   ],
   "source": [
    "df['cases'][df['year'] == 2020].sum()"
   ]
  },
  {
   "cell_type": "code",
   "execution_count": 2619,
   "id": "cc420560-a22e-4458-bb37-59dc5ab9325c",
   "metadata": {},
   "outputs": [
    {
     "data": {
      "text/plain": [
       "3806802"
      ]
     },
     "execution_count": 2619,
     "metadata": {},
     "output_type": "execute_result"
    }
   ],
   "source": [
    "df['cases'][df['year'] == 2021].sum()"
   ]
  },
  {
   "cell_type": "code",
   "execution_count": 2620,
   "id": "dda66754-3c82-4de9-add9-30dd02588346",
   "metadata": {},
   "outputs": [
    {
     "data": {
      "text/plain": [
       "2.317570558078344"
      ]
     },
     "execution_count": 2620,
     "metadata": {},
     "output_type": "execute_result"
    }
   ],
   "source": [
    "df['cases'][df['year'] == 2021].sum()/df['cases'][df['year'] == 2020].sum()"
   ]
  },
  {
   "cell_type": "markdown",
   "id": "dd08f5dd-437f-494f-97bd-5ac60241deca",
   "metadata": {},
   "source": [
    "### Create bins for cases"
   ]
  },
  {
   "cell_type": "code",
   "execution_count": 2626,
   "id": "101d2748-f708-48d8-83be-16a4fffa9737",
   "metadata": {},
   "outputs": [
    {
     "name": "stdout",
     "output_type": "stream",
     "text": [
      "count      245.000000\n",
      "mean      6704.420408\n",
      "std       8365.634156\n",
      "min        231.000000\n",
      "25%        561.000000\n",
      "50%       1357.000000\n",
      "75%      15492.000000\n",
      "max      28021.000000\n",
      "Name: cases, dtype: float64\n",
      "count      245.000000\n",
      "mean     15537.967347\n",
      "std      16854.352607\n",
      "min        550.000000\n",
      "25%       2819.000000\n",
      "50%       8636.000000\n",
      "75%      23705.000000\n",
      "max      63709.000000\n",
      "Name: cases, dtype: float64\n",
      "count    1.000000\n",
      "mean     2.317571\n",
      "std      2.014713\n",
      "min      2.380952\n",
      "25%      5.024955\n",
      "50%      6.364038\n",
      "75%      1.530145\n",
      "max      2.273616\n",
      "Name: cases, dtype: float64\n"
     ]
    }
   ],
   "source": [
    "\n",
    "cases_2020 = df['cases'][df['year'] == 2020].describe()\n",
    "cases_2021 = df['cases'][df['year'] == 2021].describe()\n",
    "\n",
    "print(cases_2020)\n",
    "print(cases_2021)\n",
    "\n",
    "# further information: (source: Testzahlen-gesamt-rki.xls)\n",
    "# same amount of test in those timespans\n",
    "# positive rate was also 2.2 times higher in 2021\n",
    "\n",
    "# Relation of cases 2021 to 2020: : 2.2 to 1\n",
    "print(df['cases'][df['year'] == 2021].describe() / df['cases'][df['year'] == 2020].describe())\n"
   ]
  },
  {
   "cell_type": "code",
   "execution_count": 2501,
   "id": "543931c8-db13-4687-ac97-280042f20682",
   "metadata": {},
   "outputs": [
    {
     "name": "stdout",
     "output_type": "stream",
     "text": [
      "2020\n",
      "(230.999, 469.8]      49\n",
      "(469.8, 1016.0]       49\n",
      "(1016.0, 2134.4]      49\n",
      "(2134.4, 16567.4]     49\n",
      "(16567.4, 28021.0]    49\n",
      "Name: cases, dtype: int64\n",
      "\n",
      "\n",
      "2021\n",
      "(549.999, 2137.0]     49\n",
      "(2137.0, 7357.4]      49\n",
      "(7357.4, 9952.2]      49\n",
      "(9952.2, 31209.0]     49\n",
      "(31209.0, 63709.0]    49\n",
      "Name: cases, dtype: int64\n"
     ]
    }
   ],
   "source": [
    "labels = ['Very low', 'Low', 'Medium', 'High', 'Very High']\n",
    "qbins = pd.qcut(df['cases'][df['year'] == 2020], 5)\n",
    "print('2020')\n",
    "print(qbins.value_counts().sort_index(ascending=True))\n",
    "print('\\n')\n",
    "\n",
    "print('2021')\n",
    "qbins = pd.qcut(df['cases'][df['year'] == 2021],5)\n",
    "print(qbins.value_counts().sort_index(ascending=True))"
   ]
  },
  {
   "cell_type": "code",
   "execution_count": 2502,
   "id": "ec80b6ca-7aef-44b9-8e8d-b1d541ed02be",
   "metadata": {},
   "outputs": [],
   "source": [
    "# add a categorical column for amount of cases\n",
    "amount_of_cases = pd.qcut(df['cases'][df['year'] == 2020], 5, labels=labels)\n",
    "df['amount_of_cases'] = amount_of_cases.append(pd.qcut(df['cases'][df['year'] == 2021], 5, labels=labels))"
   ]
  },
  {
   "cell_type": "code",
   "execution_count": 2503,
   "id": "9559338b-3306-4787-a77f-c4e5c4ac9596",
   "metadata": {},
   "outputs": [
    {
     "data": {
      "text/html": [
       "<div>\n",
       "<style scoped>\n",
       "    .dataframe tbody tr th:only-of-type {\n",
       "        vertical-align: middle;\n",
       "    }\n",
       "\n",
       "    .dataframe tbody tr th {\n",
       "        vertical-align: top;\n",
       "    }\n",
       "\n",
       "    .dataframe thead th {\n",
       "        text-align: right;\n",
       "    }\n",
       "</style>\n",
       "<table border=\"1\" class=\"dataframe\">\n",
       "  <thead>\n",
       "    <tr style=\"text-align: right;\">\n",
       "      <th></th>\n",
       "      <th>index</th>\n",
       "      <th>date</th>\n",
       "      <th>cases</th>\n",
       "      <th>rval</th>\n",
       "      <th>year</th>\n",
       "      <th>r_growth</th>\n",
       "      <th>c_growth</th>\n",
       "      <th>growth_avg</th>\n",
       "      <th>rg_cd</th>\n",
       "      <th>rg_30</th>\n",
       "      <th>rg_14</th>\n",
       "      <th>rg_7</th>\n",
       "      <th>amount_of_cases</th>\n",
       "    </tr>\n",
       "  </thead>\n",
       "  <tbody>\n",
       "    <tr>\n",
       "      <th>73</th>\n",
       "      <td>77</td>\n",
       "      <td>2020-05-18</td>\n",
       "      <td>616</td>\n",
       "      <td>0.92</td>\n",
       "      <td>2020</td>\n",
       "      <td>-0.041667</td>\n",
       "      <td>0.393665</td>\n",
       "      <td>0.004050</td>\n",
       "      <td>0</td>\n",
       "      <td>10</td>\n",
       "      <td>7</td>\n",
       "      <td>4</td>\n",
       "      <td>Low</td>\n",
       "    </tr>\n",
       "    <tr>\n",
       "      <th>75</th>\n",
       "      <td>79</td>\n",
       "      <td>2020-05-20</td>\n",
       "      <td>561</td>\n",
       "      <td>0.91</td>\n",
       "      <td>2020</td>\n",
       "      <td>-0.010870</td>\n",
       "      <td>0.209052</td>\n",
       "      <td>-0.018290</td>\n",
       "      <td>0</td>\n",
       "      <td>10</td>\n",
       "      <td>5</td>\n",
       "      <td>4</td>\n",
       "      <td>Low</td>\n",
       "    </tr>\n",
       "    <tr>\n",
       "      <th>76</th>\n",
       "      <td>80</td>\n",
       "      <td>2020-05-21</td>\n",
       "      <td>391</td>\n",
       "      <td>0.85</td>\n",
       "      <td>2020</td>\n",
       "      <td>-0.065934</td>\n",
       "      <td>-0.303030</td>\n",
       "      <td>-0.025675</td>\n",
       "      <td>0</td>\n",
       "      <td>10</td>\n",
       "      <td>5</td>\n",
       "      <td>4</td>\n",
       "      <td>Very low</td>\n",
       "    </tr>\n",
       "    <tr>\n",
       "      <th>77</th>\n",
       "      <td>81</td>\n",
       "      <td>2020-05-22</td>\n",
       "      <td>387</td>\n",
       "      <td>0.83</td>\n",
       "      <td>2020</td>\n",
       "      <td>-0.023529</td>\n",
       "      <td>-0.010230</td>\n",
       "      <td>-0.020763</td>\n",
       "      <td>0</td>\n",
       "      <td>10</td>\n",
       "      <td>4</td>\n",
       "      <td>3</td>\n",
       "      <td>Very low</td>\n",
       "    </tr>\n",
       "    <tr>\n",
       "      <th>78</th>\n",
       "      <td>82</td>\n",
       "      <td>2020-05-23</td>\n",
       "      <td>367</td>\n",
       "      <td>0.82</td>\n",
       "      <td>2020</td>\n",
       "      <td>-0.012048</td>\n",
       "      <td>-0.051680</td>\n",
       "      <td>-0.008417</td>\n",
       "      <td>0</td>\n",
       "      <td>10</td>\n",
       "      <td>4</td>\n",
       "      <td>2</td>\n",
       "      <td>Very low</td>\n",
       "    </tr>\n",
       "    <tr>\n",
       "      <th>...</th>\n",
       "      <td>...</td>\n",
       "      <td>...</td>\n",
       "      <td>...</td>\n",
       "      <td>...</td>\n",
       "      <td>...</td>\n",
       "      <td>...</td>\n",
       "      <td>...</td>\n",
       "      <td>...</td>\n",
       "      <td>...</td>\n",
       "      <td>...</td>\n",
       "      <td>...</td>\n",
       "      <td>...</td>\n",
       "      <td>...</td>\n",
       "    </tr>\n",
       "    <tr>\n",
       "      <th>624</th>\n",
       "      <td>628</td>\n",
       "      <td>2021-11-20</td>\n",
       "      <td>53582</td>\n",
       "      <td>1.12</td>\n",
       "      <td>2021</td>\n",
       "      <td>-0.017544</td>\n",
       "      <td>-0.040179</td>\n",
       "      <td>-0.017638</td>\n",
       "      <td>0</td>\n",
       "      <td>10</td>\n",
       "      <td>3</td>\n",
       "      <td>3</td>\n",
       "      <td>Very High</td>\n",
       "    </tr>\n",
       "    <tr>\n",
       "      <th>625</th>\n",
       "      <td>629</td>\n",
       "      <td>2021-11-21</td>\n",
       "      <td>53473</td>\n",
       "      <td>1.09</td>\n",
       "      <td>2021</td>\n",
       "      <td>-0.026786</td>\n",
       "      <td>-0.002034</td>\n",
       "      <td>-0.022195</td>\n",
       "      <td>0</td>\n",
       "      <td>10</td>\n",
       "      <td>3</td>\n",
       "      <td>3</td>\n",
       "      <td>Very High</td>\n",
       "    </tr>\n",
       "    <tr>\n",
       "      <th>626</th>\n",
       "      <td>630</td>\n",
       "      <td>2021-11-22</td>\n",
       "      <td>63709</td>\n",
       "      <td>1.06</td>\n",
       "      <td>2021</td>\n",
       "      <td>-0.027523</td>\n",
       "      <td>0.191424</td>\n",
       "      <td>-0.024201</td>\n",
       "      <td>0</td>\n",
       "      <td>10</td>\n",
       "      <td>3</td>\n",
       "      <td>2</td>\n",
       "      <td>Very High</td>\n",
       "    </tr>\n",
       "    <tr>\n",
       "      <th>627</th>\n",
       "      <td>631</td>\n",
       "      <td>2021-11-23</td>\n",
       "      <td>58857</td>\n",
       "      <td>1.04</td>\n",
       "      <td>2021</td>\n",
       "      <td>-0.018868</td>\n",
       "      <td>-0.076159</td>\n",
       "      <td>-0.023228</td>\n",
       "      <td>0</td>\n",
       "      <td>10</td>\n",
       "      <td>3</td>\n",
       "      <td>2</td>\n",
       "      <td>Very High</td>\n",
       "    </tr>\n",
       "    <tr>\n",
       "      <th>628</th>\n",
       "      <td>632</td>\n",
       "      <td>2021-11-24</td>\n",
       "      <td>57379</td>\n",
       "      <td>1.01</td>\n",
       "      <td>2021</td>\n",
       "      <td>-0.028846</td>\n",
       "      <td>-0.025112</td>\n",
       "      <td>-0.023671</td>\n",
       "      <td>0</td>\n",
       "      <td>10</td>\n",
       "      <td>3</td>\n",
       "      <td>1</td>\n",
       "      <td>Very High</td>\n",
       "    </tr>\n",
       "  </tbody>\n",
       "</table>\n",
       "<p>142 rows × 13 columns</p>\n",
       "</div>"
      ],
      "text/plain": [
       "     index       date  cases  rval  year  r_growth  c_growth  growth_avg  \\\n",
       "73      77 2020-05-18    616  0.92  2020 -0.041667  0.393665    0.004050   \n",
       "75      79 2020-05-20    561  0.91  2020 -0.010870  0.209052   -0.018290   \n",
       "76      80 2020-05-21    391  0.85  2020 -0.065934 -0.303030   -0.025675   \n",
       "77      81 2020-05-22    387  0.83  2020 -0.023529 -0.010230   -0.020763   \n",
       "78      82 2020-05-23    367  0.82  2020 -0.012048 -0.051680   -0.008417   \n",
       "..     ...        ...    ...   ...   ...       ...       ...         ...   \n",
       "624    628 2021-11-20  53582  1.12  2021 -0.017544 -0.040179   -0.017638   \n",
       "625    629 2021-11-21  53473  1.09  2021 -0.026786 -0.002034   -0.022195   \n",
       "626    630 2021-11-22  63709  1.06  2021 -0.027523  0.191424   -0.024201   \n",
       "627    631 2021-11-23  58857  1.04  2021 -0.018868 -0.076159   -0.023228   \n",
       "628    632 2021-11-24  57379  1.01  2021 -0.028846 -0.025112   -0.023671   \n",
       "\n",
       "     rg_cd  rg_30  rg_14  rg_7 amount_of_cases  \n",
       "73       0     10      7     4             Low  \n",
       "75       0     10      5     4             Low  \n",
       "76       0     10      5     4        Very low  \n",
       "77       0     10      4     3        Very low  \n",
       "78       0     10      4     2        Very low  \n",
       "..     ...    ...    ...   ...             ...  \n",
       "624      0     10      3     3       Very High  \n",
       "625      0     10      3     3       Very High  \n",
       "626      0     10      3     2       Very High  \n",
       "627      0     10      3     2       Very High  \n",
       "628      0     10      3     1       Very High  \n",
       "\n",
       "[142 rows x 13 columns]"
      ]
     },
     "execution_count": 2503,
     "metadata": {},
     "output_type": "execute_result"
    }
   ],
   "source": [
    "df[((df['r_growth'] < 0) & (df['rg_30'] >= 10))]"
   ]
  },
  {
   "cell_type": "code",
   "execution_count": 2504,
   "id": "7edadd00-0c40-44be-a377-5fc05dba54d8",
   "metadata": {},
   "outputs": [
    {
     "name": "stdout",
     "output_type": "stream",
     "text": [
      "year\n",
      "2020    1.120488\n",
      "2021    1.100746\n",
      "Name: rval, dtype: float64\n"
     ]
    }
   ],
   "source": [
    "print(df[((df['r_growth'] > 0) & (df['rg_30'] >= 10))].groupby(['year'])['rval'].mean())"
   ]
  },
  {
   "cell_type": "code",
   "execution_count": 2505,
   "id": "00afec88-67b4-404a-b95b-f4fc0b43b3ad",
   "metadata": {},
   "outputs": [
    {
     "name": "stdout",
     "output_type": "stream",
     "text": [
      "amount_of_cases  year\n",
      "Very low         2020    0.980741\n",
      "                 2021    0.992857\n",
      "Low              2020    1.195000\n",
      "                 2021    1.235833\n",
      "Medium           2020    1.148667\n",
      "                 2021    1.045714\n",
      "High             2020    1.263182\n",
      "                 2021    1.185333\n",
      "Very High        2020    1.053750\n",
      "                 2021    1.204000\n",
      "Name: rval, dtype: float64\n"
     ]
    }
   ],
   "source": [
    "print(df[((df['r_growth'] > 0) & (df['rg_30'] >= 10))].groupby(['amount_of_cases', 'year'])['rval'].mean())"
   ]
  },
  {
   "cell_type": "markdown",
   "id": "943c1552-1c69-4812-a5ea-4557639bd345",
   "metadata": {},
   "source": [
    "### R growth grouped by Amount of Cases"
   ]
  },
  {
   "cell_type": "code",
   "execution_count": 2506,
   "id": "7385dd1c-f395-4232-8145-1bb414cdb703",
   "metadata": {},
   "outputs": [
    {
     "name": "stdout",
     "output_type": "stream",
     "text": [
      "year  amount_of_cases\n",
      "2020  Very low          -0.034877\n",
      "      Low               -0.034531\n",
      "      Medium            -0.020878\n",
      "      High              -0.020941\n",
      "      Very High         -0.020925\n",
      "2021  Very low          -0.020876\n",
      "      Low               -0.016001\n",
      "      Medium            -0.016088\n",
      "      High              -0.018180\n",
      "      Very High         -0.015484\n",
      "Name: r_growth, dtype: float64\n",
      "year  amount_of_cases\n",
      "2020  Very low           0.037800\n",
      "      Low                0.034824\n",
      "      Medium             0.017932\n",
      "      High               0.019391\n",
      "      Very High          0.023281\n",
      "2021  Very low           0.023514\n",
      "      Low                0.017479\n",
      "      Medium             0.013919\n",
      "      High               0.022670\n",
      "      Very High          0.019635\n",
      "Name: r_growth, dtype: float64\n"
     ]
    }
   ],
   "source": [
    "print(df[df['r_growth'] < 0].groupby(['year', 'amount_of_cases'])['r_growth'].mean())\n",
    "print(df[df['r_growth'] > 0].groupby(['year', 'amount_of_cases'])['r_growth'].mean())"
   ]
  },
  {
   "cell_type": "markdown",
   "id": "002383c1-cf75-47c4-8c47-95f175394e6f",
   "metadata": {},
   "source": [
    "### R grouped by Amount of Cases"
   ]
  },
  {
   "cell_type": "code",
   "execution_count": 2507,
   "id": "2344b39a-f8d1-41d1-a884-a045249a77e6",
   "metadata": {},
   "outputs": [
    {
     "name": "stdout",
     "output_type": "stream",
     "text": [
      "year  amount_of_cases\n",
      "2020  Very low           0.902143\n",
      "      Low                1.076957\n",
      "      Medium             1.062632\n",
      "      High               1.158824\n",
      "      Very High          1.034444\n",
      "2021  Very low           0.983333\n",
      "      Low                0.948235\n",
      "      Medium             1.049583\n",
      "      High               1.043529\n",
      "      Very High          1.045769\n",
      "Name: rval, dtype: float64\n",
      "year  amount_of_cases\n",
      "2020  Very low           0.980000\n",
      "      Low                1.047895\n",
      "      Medium             1.101818\n",
      "      High               1.215185\n",
      "      Very High          1.040000\n",
      "2021  Very low           0.969677\n",
      "      Low                1.061364\n",
      "      Medium             0.990714\n",
      "      High               1.136316\n",
      "      Very High          1.156364\n",
      "Name: rval, dtype: float64\n",
      "year  amount_of_cases\n",
      "2020  Very low           1.082857\n",
      "      Low                1.180690\n",
      "      Medium             1.112432\n",
      "      High               1.272286\n",
      "      Very High          1.085806\n",
      "2021  Very low           1.207391\n",
      "      Low                1.201600\n",
      "      Medium             1.090323\n",
      "      High               1.169310\n",
      "      Very High          1.165556\n",
      "Name: rval, dtype: float64\n",
      "year  amount_of_cases\n",
      "2020  Very low           0.890857\n",
      "      Low                0.883000\n",
      "      Medium             0.971667\n",
      "      High               0.934615\n",
      "      Very High          0.940588\n",
      "2021  Very low           0.791200\n",
      "      Low                0.807083\n",
      "      Medium             0.890000\n",
      "      High               0.887500\n",
      "      Very High          0.927727\n",
      "Name: rval, dtype: float64\n"
     ]
    }
   ],
   "source": [
    "print(df[df['r_growth'] < 0].groupby(['year', 'amount_of_cases'])['rval'].mean())\n",
    "print(df[df['r_growth'] > 0].groupby(['year', 'amount_of_cases'])['rval'].mean())\n",
    "print(df[df['rval'] > 1].groupby(['year', 'amount_of_cases'])['rval'].mean())\n",
    "print(df[df['rval'] < 1].groupby(['year', 'amount_of_cases'])['rval'].mean())"
   ]
  },
  {
   "cell_type": "code",
   "execution_count": 2508,
   "id": "9cf62142-1d03-4ab5-a7b2-8e780e674ed7",
   "metadata": {},
   "outputs": [
    {
     "data": {
      "text/html": [
       "<div>\n",
       "<style scoped>\n",
       "    .dataframe tbody tr th:only-of-type {\n",
       "        vertical-align: middle;\n",
       "    }\n",
       "\n",
       "    .dataframe tbody tr th {\n",
       "        vertical-align: top;\n",
       "    }\n",
       "\n",
       "    .dataframe thead th {\n",
       "        text-align: right;\n",
       "    }\n",
       "</style>\n",
       "<table border=\"1\" class=\"dataframe\">\n",
       "  <thead>\n",
       "    <tr style=\"text-align: right;\">\n",
       "      <th></th>\n",
       "      <th>index</th>\n",
       "      <th>date</th>\n",
       "      <th>cases</th>\n",
       "      <th>rval</th>\n",
       "      <th>year</th>\n",
       "      <th>r_growth</th>\n",
       "      <th>c_growth</th>\n",
       "      <th>growth_avg</th>\n",
       "      <th>rg_cd</th>\n",
       "      <th>rg_30</th>\n",
       "      <th>rg_14</th>\n",
       "      <th>rg_7</th>\n",
       "      <th>amount_of_cases</th>\n",
       "    </tr>\n",
       "  </thead>\n",
       "  <tbody>\n",
       "    <tr>\n",
       "      <th>56</th>\n",
       "      <td>60</td>\n",
       "      <td>2020-05-01</td>\n",
       "      <td>814</td>\n",
       "      <td>0.82</td>\n",
       "      <td>2020</td>\n",
       "      <td>0.050000</td>\n",
       "      <td>0.250000</td>\n",
       "      <td>0.000000</td>\n",
       "      <td>0</td>\n",
       "      <td>0</td>\n",
       "      <td>0</td>\n",
       "      <td>0</td>\n",
       "      <td>Low</td>\n",
       "    </tr>\n",
       "    <tr>\n",
       "      <th>57</th>\n",
       "      <td>61</td>\n",
       "      <td>2020-05-02</td>\n",
       "      <td>743</td>\n",
       "      <td>0.85</td>\n",
       "      <td>2020</td>\n",
       "      <td>0.036585</td>\n",
       "      <td>-0.087224</td>\n",
       "      <td>0.000000</td>\n",
       "      <td>1</td>\n",
       "      <td>1</td>\n",
       "      <td>1</td>\n",
       "      <td>1</td>\n",
       "      <td>Low</td>\n",
       "    </tr>\n",
       "    <tr>\n",
       "      <th>58</th>\n",
       "      <td>62</td>\n",
       "      <td>2020-05-03</td>\n",
       "      <td>756</td>\n",
       "      <td>0.86</td>\n",
       "      <td>2020</td>\n",
       "      <td>0.011765</td>\n",
       "      <td>0.017497</td>\n",
       "      <td>0.000000</td>\n",
       "      <td>2</td>\n",
       "      <td>2</td>\n",
       "      <td>2</td>\n",
       "      <td>2</td>\n",
       "      <td>Low</td>\n",
       "    </tr>\n",
       "    <tr>\n",
       "      <th>59</th>\n",
       "      <td>63</td>\n",
       "      <td>2020-05-04</td>\n",
       "      <td>891</td>\n",
       "      <td>0.89</td>\n",
       "      <td>2020</td>\n",
       "      <td>0.034884</td>\n",
       "      <td>0.178571</td>\n",
       "      <td>0.022226</td>\n",
       "      <td>3</td>\n",
       "      <td>3</td>\n",
       "      <td>3</td>\n",
       "      <td>3</td>\n",
       "      <td>Low</td>\n",
       "    </tr>\n",
       "    <tr>\n",
       "      <th>60</th>\n",
       "      <td>64</td>\n",
       "      <td>2020-05-05</td>\n",
       "      <td>813</td>\n",
       "      <td>0.90</td>\n",
       "      <td>2020</td>\n",
       "      <td>0.011236</td>\n",
       "      <td>-0.087542</td>\n",
       "      <td>0.015766</td>\n",
       "      <td>4</td>\n",
       "      <td>4</td>\n",
       "      <td>4</td>\n",
       "      <td>4</td>\n",
       "      <td>Low</td>\n",
       "    </tr>\n",
       "    <tr>\n",
       "      <th>...</th>\n",
       "      <td>...</td>\n",
       "      <td>...</td>\n",
       "      <td>...</td>\n",
       "      <td>...</td>\n",
       "      <td>...</td>\n",
       "      <td>...</td>\n",
       "      <td>...</td>\n",
       "      <td>...</td>\n",
       "      <td>...</td>\n",
       "      <td>...</td>\n",
       "      <td>...</td>\n",
       "      <td>...</td>\n",
       "      <td>...</td>\n",
       "    </tr>\n",
       "    <tr>\n",
       "      <th>661</th>\n",
       "      <td>665</td>\n",
       "      <td>2021-12-27</td>\n",
       "      <td>38089</td>\n",
       "      <td>1.09</td>\n",
       "      <td>2021</td>\n",
       "      <td>0.058252</td>\n",
       "      <td>0.224018</td>\n",
       "      <td>0.045724</td>\n",
       "      <td>10</td>\n",
       "      <td>5</td>\n",
       "      <td>4</td>\n",
       "      <td>4</td>\n",
       "      <td>Very High</td>\n",
       "    </tr>\n",
       "    <tr>\n",
       "      <th>662</th>\n",
       "      <td>666</td>\n",
       "      <td>2021-12-28</td>\n",
       "      <td>37520</td>\n",
       "      <td>1.13</td>\n",
       "      <td>2021</td>\n",
       "      <td>0.036697</td>\n",
       "      <td>-0.014939</td>\n",
       "      <td>0.041046</td>\n",
       "      <td>11</td>\n",
       "      <td>6</td>\n",
       "      <td>5</td>\n",
       "      <td>5</td>\n",
       "      <td>Very High</td>\n",
       "    </tr>\n",
       "    <tr>\n",
       "      <th>663</th>\n",
       "      <td>667</td>\n",
       "      <td>2021-12-29</td>\n",
       "      <td>34666</td>\n",
       "      <td>1.15</td>\n",
       "      <td>2021</td>\n",
       "      <td>0.017699</td>\n",
       "      <td>-0.076066</td>\n",
       "      <td>0.033026</td>\n",
       "      <td>12</td>\n",
       "      <td>7</td>\n",
       "      <td>6</td>\n",
       "      <td>6</td>\n",
       "      <td>Very High</td>\n",
       "    </tr>\n",
       "    <tr>\n",
       "      <th>664</th>\n",
       "      <td>668</td>\n",
       "      <td>2021-12-30</td>\n",
       "      <td>33152</td>\n",
       "      <td>1.17</td>\n",
       "      <td>2021</td>\n",
       "      <td>0.017391</td>\n",
       "      <td>-0.043674</td>\n",
       "      <td>0.029427</td>\n",
       "      <td>13</td>\n",
       "      <td>8</td>\n",
       "      <td>7</td>\n",
       "      <td>7</td>\n",
       "      <td>Very High</td>\n",
       "    </tr>\n",
       "    <tr>\n",
       "      <th>665</th>\n",
       "      <td>669</td>\n",
       "      <td>2021-12-31</td>\n",
       "      <td>34962</td>\n",
       "      <td>1.19</td>\n",
       "      <td>2021</td>\n",
       "      <td>0.017094</td>\n",
       "      <td>0.054597</td>\n",
       "      <td>0.022220</td>\n",
       "      <td>14</td>\n",
       "      <td>9</td>\n",
       "      <td>8</td>\n",
       "      <td>7</td>\n",
       "      <td>Very High</td>\n",
       "    </tr>\n",
       "  </tbody>\n",
       "</table>\n",
       "<p>490 rows × 13 columns</p>\n",
       "</div>"
      ],
      "text/plain": [
       "     index       date  cases  rval  year  r_growth  c_growth  growth_avg  \\\n",
       "56      60 2020-05-01    814  0.82  2020  0.050000  0.250000    0.000000   \n",
       "57      61 2020-05-02    743  0.85  2020  0.036585 -0.087224    0.000000   \n",
       "58      62 2020-05-03    756  0.86  2020  0.011765  0.017497    0.000000   \n",
       "59      63 2020-05-04    891  0.89  2020  0.034884  0.178571    0.022226   \n",
       "60      64 2020-05-05    813  0.90  2020  0.011236 -0.087542    0.015766   \n",
       "..     ...        ...    ...   ...   ...       ...       ...         ...   \n",
       "661    665 2021-12-27  38089  1.09  2021  0.058252  0.224018    0.045724   \n",
       "662    666 2021-12-28  37520  1.13  2021  0.036697 -0.014939    0.041046   \n",
       "663    667 2021-12-29  34666  1.15  2021  0.017699 -0.076066    0.033026   \n",
       "664    668 2021-12-30  33152  1.17  2021  0.017391 -0.043674    0.029427   \n",
       "665    669 2021-12-31  34962  1.19  2021  0.017094  0.054597    0.022220   \n",
       "\n",
       "     rg_cd  rg_30  rg_14  rg_7 amount_of_cases  \n",
       "56       0      0      0     0             Low  \n",
       "57       1      1      1     1             Low  \n",
       "58       2      2      2     2             Low  \n",
       "59       3      3      3     3             Low  \n",
       "60       4      4      4     4             Low  \n",
       "..     ...    ...    ...   ...             ...  \n",
       "661     10      5      4     4       Very High  \n",
       "662     11      6      5     5       Very High  \n",
       "663     12      7      6     6       Very High  \n",
       "664     13      8      7     7       Very High  \n",
       "665     14      9      8     7       Very High  \n",
       "\n",
       "[490 rows x 13 columns]"
      ]
     },
     "execution_count": 2508,
     "metadata": {},
     "output_type": "execute_result"
    }
   ],
   "source": [
    "df"
   ]
  },
  {
   "cell_type": "markdown",
   "id": "ce0031db-1fa1-4e39-aba5-ad839cc7b3fb",
   "metadata": {},
   "source": [
    "### Days R growing groupby amount of cases (above/below mean)"
   ]
  },
  {
   "cell_type": "code",
   "execution_count": 2509,
   "id": "569332e9-41ef-40b0-85fd-f192d960f35d",
   "metadata": {},
   "outputs": [
    {
     "name": "stdout",
     "output_type": "stream",
     "text": [
      "2020\n",
      "(231.0, 6704.42]      163\n",
      "(6704.42, 28021.0]     81\n",
      "Name: cases, dtype: int64\n",
      "\n",
      "\n",
      "2021\n",
      "(550.0, 15537.967]      169\n",
      "(15537.967, 63709.0]     75\n",
      "Name: cases, dtype: int64\n"
     ]
    }
   ],
   "source": [
    "min = df['cases'][df['year'] == 2020].min()\n",
    "max = df['cases'][df['year'] == 2020].max()\n",
    "mean = df['cases'][df['year'] == 2020].mean()\n",
    "\n",
    "bins = pd.cut(df['cases'][df['year'] == 2020],[min, mean, max])\n",
    "print('2020')\n",
    "print(bins.value_counts(dropna=True).sort_index(ascending=True))\n",
    "print('\\n')\n",
    "\n",
    "min = df['cases'][df['year'] == 2021].min()\n",
    "max = df['cases'][df['year'] == 2021].max()\n",
    "mean = df['cases'][df['year'] == 2021].mean()\n",
    "bins = pd.cut(df['cases'][df['year'] == 2021],[min, mean, max])\n",
    "print('2021')\n",
    "print(bins.value_counts(dropna=True).sort_index(ascending=True))"
   ]
  },
  {
   "cell_type": "markdown",
   "id": "642f2de1-5e24-4aae-be36-ede530008f12",
   "metadata": {},
   "source": [
    "# Some Charts regarding R-growth"
   ]
  },
  {
   "cell_type": "markdown",
   "id": "e1e2dee0-9ab4-4a3e-854a-3a1e1fd4ac87",
   "metadata": {},
   "source": [
    "## Just tinkering "
   ]
  },
  {
   "cell_type": "code",
   "execution_count": 2510,
   "id": "038e89a7-1cfe-4880-af72-473efe548654",
   "metadata": {},
   "outputs": [
    {
     "data": {
      "text/plain": [
       "<AxesSubplot:xlabel='date'>"
      ]
     },
     "execution_count": 2510,
     "metadata": {},
     "output_type": "execute_result"
    },
    {
     "data": {
      "image/png": "[encoded data removed]",
      "text/plain": [
       "<Figure size 1224x576 with 1 Axes>"
      ]
     },
     "metadata": {
      "needs_background": "light"
     },
     "output_type": "display_data"
    }
   ],
   "source": [
    "df.groupby(pd.Grouper(key='date', freq='m'))['r_growth'].mean().plot(legend=True, figsize=(17,8))"
   ]
  },
  {
   "cell_type": "code",
   "execution_count": 2511,
   "id": "1d8ed3a3-ff04-4f05-a0c2-a194fabb1fb7",
   "metadata": {},
   "outputs": [
    {
     "data": {
      "text/plain": [
       "<AxesSubplot:xlabel='date', ylabel='r_growth'>"
      ]
     },
     "execution_count": 2511,
     "metadata": {},
     "output_type": "execute_result"
    },
    {
     "data": {
      "image/png": "[encoded data removed]",
      "text/plain": [
       "<Figure size 1224x576 with 1 Axes>"
      ]
     },
     "metadata": {
      "needs_background": "light"
     },
     "output_type": "display_data"
    }
   ],
   "source": [
    "plt.figure(figsize = (17,8))\n",
    "sns.lineplot(x = df['date'].dt.dayofyear , y = 'r_growth', data = df.loc[(df['year'] == 2020) & (df['date'].dt.dayofyear >= 100)  & (df['date'].dt.dayofyear <= 200)])"
   ]
  },
  {
   "cell_type": "code",
   "execution_count": 2512,
   "id": "06ac1c1a-a951-44ad-ba01-70e7e67785a1",
   "metadata": {},
   "outputs": [
    {
     "data": {
      "text/plain": [
       "date\n",
       "2020-05-01    0.050000\n",
       "2020-05-02    0.036585\n",
       "2020-05-03    0.011765\n",
       "2020-05-04    0.034884\n",
       "2020-05-05    0.011236\n",
       "                ...   \n",
       "2021-12-27    0.058252\n",
       "2021-12-28    0.036697\n",
       "2021-12-29    0.017699\n",
       "2021-12-30    0.017391\n",
       "2021-12-31    0.017094\n",
       "Name: r_growth, Length: 490, dtype: float64"
      ]
     },
     "execution_count": 2512,
     "metadata": {},
     "output_type": "execute_result"
    }
   ],
   "source": [
    "df.groupby(['date'])['r_growth'].mean()"
   ]
  },
  {
   "cell_type": "markdown",
   "id": "8c38a095-2711-4c07-93b1-427ac3660581",
   "metadata": {},
   "source": [
    "## One chart to rule them all"
   ]
  },
  {
   "cell_type": "code",
   "execution_count": 2513,
   "id": "39446c1f-1fd0-4597-a8c5-40a68565afca",
   "metadata": {},
   "outputs": [
    {
     "data": {
      "image/png": "[encoded data removed]",
      "text/plain": [
       "<Figure size 3240x864 with 1 Axes>"
      ]
     },
     "metadata": {
      "needs_background": "light"
     },
     "output_type": "display_data"
    }
   ],
   "source": [
    "plt.figure(figsize = (45,12))\n",
    "r_growth_plot = sns.lineplot(x = df['date'].dt.dayofyear , y = 'r_growth', data = df.loc[(df['year'] == 2020) & (df['date'].dt.dayofyear >= 100)  & (df['date'].dt.dayofyear <= 200)])\n",
    "r_growth_plot = sns.lineplot(x = df['date'].dt.dayofyear , y = 'r_growth', data = df.loc[(df['year'] == 2021) & (df['date'].dt.dayofyear >= 100)  & (df['date'].dt.dayofyear <= 200)])\n"
   ]
  },
  {
   "cell_type": "code",
   "execution_count": 2514,
   "id": "cd05155c-bde3-46eb-b2fe-5a41cbfe0461",
   "metadata": {},
   "outputs": [
    {
     "data": {
      "text/plain": [
       "<AxesSubplot:xlabel='date', ylabel='r_growth'>"
      ]
     },
     "execution_count": 2514,
     "metadata": {},
     "output_type": "execute_result"
    }
   ],
   "source": [
    "r_growth_plot "
   ]
  },
  {
   "cell_type": "markdown",
   "id": "dd6edc0d-43df-4342-9415-51b0de052ba3",
   "metadata": {},
   "source": [
    "## Single Charts for each year"
   ]
  },
  {
   "cell_type": "code",
   "execution_count": 2515,
   "id": "7c6a1b95-2dd6-45ed-a499-11e0fbe7d04a",
   "metadata": {},
   "outputs": [
    {
     "data": {
      "text/plain": [
       "Text(0, 0.5, 'Growth Rate')"
      ]
     },
     "execution_count": 2515,
     "metadata": {},
     "output_type": "execute_result"
    },
    {
     "data": {
      "image/png": "[encoded data removed]",
      "text/plain": [
       "<Figure size 432x288 with 1 Axes>"
      ]
     },
     "metadata": {
      "needs_background": "light"
     },
     "output_type": "display_data"
    },
    {
     "data": {
      "image/png": "[encoded data removed]",
      "text/plain": [
       "<Figure size 432x288 with 1 Axes>"
      ]
     },
     "metadata": {
      "needs_background": "light"
     },
     "output_type": "display_data"
    },
    {
     "data": {
      "image/png": "[encoded data removed]",
      "text/plain": [
       "<Figure size 432x288 with 1 Axes>"
      ]
     },
     "metadata": {
      "needs_background": "light"
     },
     "output_type": "display_data"
    }
   ],
   "source": [
    "df.loc[df['year'] == 2020].plot(x='date',y='r_growth')\n",
    "plt.xlabel(\"Date\",size=14)\n",
    "plt.ylabel(\"Growth Rate\",size=14)\n",
    "df.loc[df['year'] == 2021].plot(x='date',y='r_growth')\n",
    "plt.xlabel(\"Date\",size=14)\n",
    "plt.ylabel(\"Growth Rate\",size=14)\n",
    "df.loc[df['year'] == 2022].plot(x='date',y='r_growth')\n",
    "plt.xlabel(\"Date\",size=14)\n",
    "plt.ylabel(\"Growth Rate\",size=14)\n"
   ]
  },
  {
   "cell_type": "markdown",
   "id": "a1b21b84-4934-4206-b326-fd224717409a",
   "metadata": {},
   "source": [
    "# Hospitalization: Prognosis with LinearRegression"
   ]
  },
  {
   "cell_type": "markdown",
   "id": "37194b84-0052-47ec-a3ac-eaa584c25805",
   "metadata": {},
   "source": [
    "## For all data "
   ]
  },
  {
   "cell_type": "code",
   "execution_count": 2516,
   "id": "c6290b53-ac29-4f8f-bcab-eabc8e3189ef",
   "metadata": {},
   "outputs": [],
   "source": [
    "hosp_lr = hosp.copy()"
   ]
  },
  {
   "cell_type": "code",
   "execution_count": 2517,
   "id": "61434288-2911-470f-ab42-35a29090a03a",
   "metadata": {},
   "outputs": [],
   "source": [
    "hosp_lr['date']=hosp_lr['date'].map(dt.datetime.toordinal)"
   ]
  },
  {
   "cell_type": "code",
   "execution_count": 2518,
   "id": "287622f3-f729-4df3-8487-3386e57fca89",
   "metadata": {},
   "outputs": [],
   "source": [
    "y = hosp_lr['hcases']\n",
    "X = hosp_lr.drop(['hcases'], axis=1)\n",
    "# X already consists of numericals only\n",
    "\n",
    "X_train, X_test, y_train, y_test = train_test_split(X, y, test_size=0.2, random_state=0)"
   ]
  },
  {
   "cell_type": "code",
   "execution_count": 2519,
   "id": "60b1d9ed-4402-4082-87c4-16a8cf3e1ab9",
   "metadata": {},
   "outputs": [
    {
     "name": "stdout",
     "output_type": "stream",
     "text": [
      "(620, 3)\n"
     ]
    }
   ],
   "source": [
    "# Normalizing data: make data range from 0 - 1, instead of from min to max\n",
    "transformer = MinMaxScaler().fit(X_train)\n",
    "x_normalized = transformer.transform(X_train)\n",
    "print(x_normalized.shape)\n",
    "x_normalized #this is an array\n",
    "X_train = pd.DataFrame(x_normalized, columns=X_train.columns) #now we convert the array to a dataframe"
   ]
  },
  {
   "cell_type": "code",
   "execution_count": 2520,
   "id": "0c685ae7-d04d-4617-a9e5-30e0a9284045",
   "metadata": {},
   "outputs": [
    {
     "name": "stdout",
     "output_type": "stream",
     "text": [
      "(156, 3)\n"
     ]
    }
   ],
   "source": [
    "# Normalizing data: make data range from 0 - 1, instead of from min to max\n",
    "transformer = MinMaxScaler().fit(X_test)\n",
    "x_normalized = transformer.transform(X_test)\n",
    "print(x_normalized.shape)\n",
    "x_normalized #this is an array\n",
    "X_test = pd.DataFrame(x_normalized, columns=X_test.columns) #now we convert the array to a dataframe"
   ]
  },
  {
   "cell_type": "code",
   "execution_count": 2521,
   "id": "6c2e65fe-af6d-4f56-90df-92e14e0f5f22",
   "metadata": {},
   "outputs": [
    {
     "data": {
      "text/plain": [
       "LinearRegression()"
      ]
     },
     "execution_count": 2521,
     "metadata": {},
     "output_type": "execute_result"
    }
   ],
   "source": [
    "lm = linear_model.LinearRegression()\n",
    "lm.fit(X_train,y_train)"
   ]
  },
  {
   "cell_type": "code",
   "execution_count": 2522,
   "id": "b90725fe-5d70-4317-9452-871074d2575f",
   "metadata": {},
   "outputs": [
    {
     "data": {
      "text/plain": [
       "0.6421697253073304"
      ]
     },
     "execution_count": 2522,
     "metadata": {},
     "output_type": "execute_result"
    }
   ],
   "source": [
    "predictions = lm.predict(X_test)\n",
    "r2_score(y_test, predictions)"
   ]
  },
  {
   "cell_type": "markdown",
   "id": "8e6f0c6f-27c0-41f6-8c3c-c09f8b312bd4",
   "metadata": {},
   "source": [
    "## For each year"
   ]
  },
  {
   "cell_type": "markdown",
   "id": "91ec5ee3-3ab2-4372-9285-5353fc3c42ff",
   "metadata": {},
   "source": [
    "### 2020"
   ]
  },
  {
   "cell_type": "code",
   "execution_count": 2523,
   "id": "32d67319-b5f3-40d3-88fe-d47cb32790ab",
   "metadata": {},
   "outputs": [],
   "source": [
    "hosp_2020 = hosp[(hosp.date.dt.year == 2020)].copy()"
   ]
  },
  {
   "cell_type": "code",
   "execution_count": 2524,
   "id": "eaa2f702-d5bb-45e9-8e98-c91321b568ea",
   "metadata": {},
   "outputs": [],
   "source": [
    "hosp_2020['date']=hosp_2020['date'].map(dt.datetime.toordinal)"
   ]
  },
  {
   "cell_type": "code",
   "execution_count": 2525,
   "id": "f07dcaf5-416d-463a-8beb-a8ff02ff9f63",
   "metadata": {},
   "outputs": [],
   "source": [
    "y = hosp_2020['hcases']\n",
    "X = hosp_2020.drop(['hcases'], axis=1)\n",
    "# X already consists of numericals only\n",
    "\n",
    "X_train, X_test, y_train, y_test = train_test_split(X, y, test_size=0.2, random_state=0)"
   ]
  },
  {
   "cell_type": "code",
   "execution_count": 2526,
   "id": "de8c12dd-17b8-4a7d-aa8e-48b9bea3e5d8",
   "metadata": {},
   "outputs": [
    {
     "name": "stdout",
     "output_type": "stream",
     "text": [
      "(240, 3)\n"
     ]
    }
   ],
   "source": [
    "# Normalizing data: make data range from 0 - 1, instead of from min to max\n",
    "transformer = MinMaxScaler().fit(X_train)\n",
    "x_normalized = transformer.transform(X_train)\n",
    "print(x_normalized.shape)\n",
    "x_normalized #this is an array\n",
    "X_train = pd.DataFrame(x_normalized, columns=X_train.columns) #now we convert the array to a dataframe"
   ]
  },
  {
   "cell_type": "code",
   "execution_count": 2527,
   "id": "6290e58e-61a5-463a-a138-222293cbb9f1",
   "metadata": {},
   "outputs": [
    {
     "name": "stdout",
     "output_type": "stream",
     "text": [
      "(61, 3)\n"
     ]
    }
   ],
   "source": [
    "# Normalizing data: make data range from 0 - 1, instead of from min to max\n",
    "transformer = MinMaxScaler().fit(X_test)\n",
    "x_normalized = transformer.transform(X_test)\n",
    "print(x_normalized.shape)\n",
    "x_normalized #this is an array\n",
    "X_test = pd.DataFrame(x_normalized, columns=X_test.columns) #now we convert the array to a dataframe"
   ]
  },
  {
   "cell_type": "code",
   "execution_count": 2528,
   "id": "d649389c-6b2f-40c3-8438-634a07ff2711",
   "metadata": {},
   "outputs": [
    {
     "data": {
      "text/plain": [
       "0.7216098347029509"
      ]
     },
     "execution_count": 2528,
     "metadata": {},
     "output_type": "execute_result"
    }
   ],
   "source": [
    "lm = linear_model.LinearRegression()\n",
    "lm.fit(X_train,y_train)\n",
    "predictions = lm.predict(X_test)\n",
    "r2_score(y_test, predictions)"
   ]
  },
  {
   "cell_type": "markdown",
   "id": "9846f008-e5e3-4796-9c34-689fb0e0ed21",
   "metadata": {},
   "source": [
    "### 2021"
   ]
  },
  {
   "cell_type": "code",
   "execution_count": 2529,
   "id": "053ca052-df58-4a47-bfd3-71003d28e53e",
   "metadata": {},
   "outputs": [],
   "source": [
    "hosp_2021 = hosp[(hosp.date.dt.year == 2021)].copy().reset_index().drop(['index'], axis=1)"
   ]
  },
  {
   "cell_type": "code",
   "execution_count": 2530,
   "id": "06df31f8-7296-4901-8a3f-e8dcf813c9e1",
   "metadata": {},
   "outputs": [],
   "source": [
    "# in 2021 the vaccination started. So therefor I just look at the 2nd half of the year when most of the elderly had been vaccinated\n",
    "hosp_2021 = hosp_2021.iloc[182:365]\n",
    "# hosp_2021 = hosp_2021.iloc[0:181]"
   ]
  },
  {
   "cell_type": "code",
   "execution_count": 2531,
   "id": "1360aae3-6481-4f1a-acfc-7c62e37ab724",
   "metadata": {},
   "outputs": [],
   "source": [
    "hosp_2021['date']=hosp_2021['date'].map(dt.datetime.toordinal)"
   ]
  },
  {
   "cell_type": "code",
   "execution_count": 2532,
   "id": "10b831fa-3ac3-446a-be0a-7da9577be4f5",
   "metadata": {},
   "outputs": [],
   "source": [
    "y = hosp_2021['hcases']\n",
    "X = hosp_2021.drop(['hcases'], axis=1)\n",
    "# X already consists of numericals only\n",
    "\n",
    "X_train, X_test, y_train, y_test = train_test_split(X, y, test_size=0.22, random_state=0)"
   ]
  },
  {
   "cell_type": "code",
   "execution_count": 2533,
   "id": "8b8a43bb-3474-455e-8ec6-971e66cc90c0",
   "metadata": {},
   "outputs": [
    {
     "name": "stdout",
     "output_type": "stream",
     "text": [
      "(142, 3)\n"
     ]
    }
   ],
   "source": [
    "# Normalizing data: make data range from 0 - 1, instead of from min to max\n",
    "transformer = MinMaxScaler().fit(X_train)\n",
    "x_normalized = transformer.transform(X_train)\n",
    "print(x_normalized.shape)\n",
    "x_normalized #this is an array\n",
    "X_train = pd.DataFrame(x_normalized, columns=X_train.columns) #now we convert the array to a dataframe"
   ]
  },
  {
   "cell_type": "code",
   "execution_count": 2534,
   "id": "c60ce656-424c-45c9-900e-94350628db6a",
   "metadata": {},
   "outputs": [
    {
     "name": "stdout",
     "output_type": "stream",
     "text": [
      "(41, 3)\n"
     ]
    }
   ],
   "source": [
    "# Normalizing data: make data range from 0 - 1, instead of from min to max\n",
    "transformer = MinMaxScaler().fit(X_test)\n",
    "x_normalized = transformer.transform(X_test)\n",
    "print(x_normalized.shape)\n",
    "x_normalized #this is an array\n",
    "X_test = pd.DataFrame(x_normalized, columns=X_test.columns) #now we convert the array to a dataframe"
   ]
  },
  {
   "cell_type": "code",
   "execution_count": 2535,
   "id": "36de353c-423f-4230-b285-f8052327429a",
   "metadata": {},
   "outputs": [
    {
     "data": {
      "text/plain": [
       "0.8015414016042545"
      ]
     },
     "execution_count": 2535,
     "metadata": {},
     "output_type": "execute_result"
    }
   ],
   "source": [
    "lm = linear_model.LinearRegression()\n",
    "lm.fit(X_train,y_train)\n",
    "predictions = lm.predict(X_test)\n",
    "r2_score(y_test, predictions)"
   ]
  },
  {
   "cell_type": "code",
   "execution_count": 2536,
   "id": "0de1539e-ebcb-4ba9-a6d4-d8873aaf492b",
   "metadata": {},
   "outputs": [],
   "source": [
    "# :( Just realized that all my data from the trainingset need to be from an earlier date than my testset\n",
    "# and then I would also need to replace the column new cases with incidence or maybe even have both."
   ]
  },
  {
   "cell_type": "markdown",
   "id": "c730c7ad-0b91-4211-b02a-7ad42d2dd525",
   "metadata": {},
   "source": [
    "#### Compare with dates from January"
   ]
  },
  {
   "cell_type": "code",
   "execution_count": 2537,
   "id": "b4551951-8dbe-4ae3-9795-c64b9313f4cd",
   "metadata": {},
   "outputs": [],
   "source": [
    "hosp_2022_jan = hosp[(hosp.date.dt.year == 2022)].copy().reset_index().drop(['index'], axis=1)"
   ]
  },
  {
   "cell_type": "code",
   "execution_count": 2538,
   "id": "38ee58a3-1592-4091-b599-31eec04c05e0",
   "metadata": {},
   "outputs": [],
   "source": [
    "hosp_2022_jan = hosp_2022_jan[hosp_2022_jan['date'].dt.month == 1]\n",
    "hosp_2022_jan['date']=hosp_2022_jan['date'].map(dt.datetime.toordinal)"
   ]
  },
  {
   "cell_type": "code",
   "execution_count": 2539,
   "id": "be7993db-c162-48ca-9764-90f647d67a2c",
   "metadata": {},
   "outputs": [],
   "source": [
    "y = hosp_2022_jan['hcases']\n",
    "X = hosp_2022_jan.drop(['hcases'], axis=1)"
   ]
  },
  {
   "cell_type": "code",
   "execution_count": 2540,
   "id": "3c3fd653-ed00-4d57-b6f3-e17e545cdbb4",
   "metadata": {},
   "outputs": [
    {
     "name": "stdout",
     "output_type": "stream",
     "text": [
      "(31, 3)\n"
     ]
    }
   ],
   "source": [
    "# Normalizing data: make data range from 0 - 1, instead of from min to max\n",
    "transformer = MinMaxScaler().fit(X)\n",
    "x_normalized = transformer.transform(X)\n",
    "print(x_normalized.shape)\n",
    "x_normalized #this is an array\n",
    "X = pd.DataFrame(x_normalized, columns=X.columns) #now we convert the array to a dataframe"
   ]
  },
  {
   "cell_type": "code",
   "execution_count": 2541,
   "id": "00b4a014-970d-4ba5-9c16-decc002d8b83",
   "metadata": {},
   "outputs": [
    {
     "data": {
      "text/plain": [
       "-28.40022258311616"
      ]
     },
     "execution_count": 2541,
     "metadata": {},
     "output_type": "execute_result"
    }
   ],
   "source": [
    "predictions = lm.predict(X)\n",
    "r2_score(y, predictions)"
   ]
  },
  {
   "cell_type": "markdown",
   "id": "54b7f382-858e-4467-90ea-d34f4baa8c07",
   "metadata": {},
   "source": [
    "### 2022"
   ]
  },
  {
   "cell_type": "code",
   "execution_count": 2542,
   "id": "ca749914-5ff4-45e4-b31a-b70d3c436254",
   "metadata": {},
   "outputs": [],
   "source": [
    "hosp_2022 = hosp[(hosp.date.dt.year == 2022)].copy()\n",
    "hosp_2022['date']=hosp_2022['date'].map(dt.datetime.toordinal)"
   ]
  },
  {
   "cell_type": "code",
   "execution_count": 2543,
   "id": "963056ee-219f-4005-baec-66895b90d147",
   "metadata": {},
   "outputs": [],
   "source": [
    "y = hosp_2022['hcases']\n",
    "X = hosp_2022.drop(['hcases'], axis=1)\n",
    "# X already consists of numericals only\n",
    "\n",
    "X_train, X_test, y_train, y_test = train_test_split(X, y, test_size=0.2, random_state=0)"
   ]
  },
  {
   "cell_type": "code",
   "execution_count": 2544,
   "id": "66b7a4e1-3f11-43c6-88f6-dbbf3fb9b6ec",
   "metadata": {},
   "outputs": [
    {
     "name": "stdout",
     "output_type": "stream",
     "text": [
      "(88, 3)\n"
     ]
    }
   ],
   "source": [
    "# Normalizing data: make data range from 0 - 1, instead of from min to max\n",
    "transformer = MinMaxScaler().fit(X_train)\n",
    "x_normalized = transformer.transform(X_train)\n",
    "print(x_normalized.shape)\n",
    "x_normalized #this is an array\n",
    "X_train = pd.DataFrame(x_normalized, columns=X_train.columns) #now we convert the array to a dataframe"
   ]
  },
  {
   "cell_type": "code",
   "execution_count": 2545,
   "id": "e1507742-f53d-4537-9de3-cc1eaddc8b5f",
   "metadata": {},
   "outputs": [
    {
     "name": "stdout",
     "output_type": "stream",
     "text": [
      "(22, 3)\n"
     ]
    }
   ],
   "source": [
    "# Normalizing data: make data range from 0 - 1, instead of from min to max\n",
    "transformer = MinMaxScaler().fit(X_test)\n",
    "x_normalized = transformer.transform(X_test)\n",
    "print(x_normalized.shape)\n",
    "x_normalized #this is an array\n",
    "X_test = pd.DataFrame(x_normalized, columns=X_test.columns) #now we convert the array to a dataframe"
   ]
  },
  {
   "cell_type": "code",
   "execution_count": 2546,
   "id": "09bc969f-fa7e-432d-b1f8-2677ccfc7153",
   "metadata": {},
   "outputs": [
    {
     "data": {
      "text/plain": [
       "0.8867749562117104"
      ]
     },
     "execution_count": 2546,
     "metadata": {},
     "output_type": "execute_result"
    }
   ],
   "source": [
    "lm = linear_model.LinearRegression()\n",
    "lm.fit(X_train,y_train)\n",
    "predictions = lm.predict(X_test)\n",
    "r2_score(y_test, predictions)"
   ]
  },
  {
   "cell_type": "markdown",
   "id": "72678638-a58d-4877-8bc2-7dfbb51506cf",
   "metadata": {},
   "source": [
    "# Comparing cases 2021 and 2022"
   ]
  },
  {
   "cell_type": "code",
   "execution_count": 2547,
   "id": "933e96e7-859b-4e23-8b15-42803f417d98",
   "metadata": {},
   "outputs": [
    {
     "data": {
      "text/html": [
       "<div>\n",
       "<style scoped>\n",
       "    .dataframe tbody tr th:only-of-type {\n",
       "        vertical-align: middle;\n",
       "    }\n",
       "\n",
       "    .dataframe tbody tr th {\n",
       "        vertical-align: top;\n",
       "    }\n",
       "\n",
       "    .dataframe thead th {\n",
       "        text-align: right;\n",
       "    }\n",
       "</style>\n",
       "<table border=\"1\" class=\"dataframe\">\n",
       "  <thead>\n",
       "    <tr style=\"text-align: right;\">\n",
       "      <th></th>\n",
       "      <th>index</th>\n",
       "      <th>date</th>\n",
       "      <th>cases</th>\n",
       "      <th>rval</th>\n",
       "      <th>year</th>\n",
       "    </tr>\n",
       "  </thead>\n",
       "  <tbody>\n",
       "    <tr>\n",
       "      <th>0</th>\n",
       "      <td>4</td>\n",
       "      <td>2020-03-06</td>\n",
       "      <td>757</td>\n",
       "      <td>2.34</td>\n",
       "      <td>2020</td>\n",
       "    </tr>\n",
       "    <tr>\n",
       "      <th>1</th>\n",
       "      <td>5</td>\n",
       "      <td>2020-03-07</td>\n",
       "      <td>984</td>\n",
       "      <td>2.56</td>\n",
       "      <td>2020</td>\n",
       "    </tr>\n",
       "    <tr>\n",
       "      <th>2</th>\n",
       "      <td>6</td>\n",
       "      <td>2020-03-08</td>\n",
       "      <td>1336</td>\n",
       "      <td>2.93</td>\n",
       "      <td>2020</td>\n",
       "    </tr>\n",
       "    <tr>\n",
       "      <th>3</th>\n",
       "      <td>7</td>\n",
       "      <td>2020-03-09</td>\n",
       "      <td>2020</td>\n",
       "      <td>3.13</td>\n",
       "      <td>2020</td>\n",
       "    </tr>\n",
       "    <tr>\n",
       "      <th>4</th>\n",
       "      <td>8</td>\n",
       "      <td>2020-03-10</td>\n",
       "      <td>2574</td>\n",
       "      <td>3.22</td>\n",
       "      <td>2020</td>\n",
       "    </tr>\n",
       "    <tr>\n",
       "      <th>...</th>\n",
       "      <td>...</td>\n",
       "      <td>...</td>\n",
       "      <td>...</td>\n",
       "      <td>...</td>\n",
       "      <td>...</td>\n",
       "    </tr>\n",
       "    <tr>\n",
       "      <th>771</th>\n",
       "      <td>775</td>\n",
       "      <td>2022-04-16</td>\n",
       "      <td>83543</td>\n",
       "      <td>0.89</td>\n",
       "      <td>2022</td>\n",
       "    </tr>\n",
       "    <tr>\n",
       "      <th>772</th>\n",
       "      <td>776</td>\n",
       "      <td>2022-04-17</td>\n",
       "      <td>94915</td>\n",
       "      <td>0.88</td>\n",
       "      <td>2022</td>\n",
       "    </tr>\n",
       "    <tr>\n",
       "      <th>773</th>\n",
       "      <td>777</td>\n",
       "      <td>2022-04-18</td>\n",
       "      <td>106658</td>\n",
       "      <td>0.92</td>\n",
       "      <td>2022</td>\n",
       "    </tr>\n",
       "    <tr>\n",
       "      <th>774</th>\n",
       "      <td>778</td>\n",
       "      <td>2022-04-19</td>\n",
       "      <td>124049</td>\n",
       "      <td>0.98</td>\n",
       "      <td>2022</td>\n",
       "    </tr>\n",
       "    <tr>\n",
       "      <th>775</th>\n",
       "      <td>779</td>\n",
       "      <td>2022-04-20</td>\n",
       "      <td>116755</td>\n",
       "      <td>0.99</td>\n",
       "      <td>2022</td>\n",
       "    </tr>\n",
       "  </tbody>\n",
       "</table>\n",
       "<p>776 rows × 5 columns</p>\n",
       "</div>"
      ],
      "text/plain": [
       "     index       date   cases  rval  year\n",
       "0        4 2020-03-06     757  2.34  2020\n",
       "1        5 2020-03-07     984  2.56  2020\n",
       "2        6 2020-03-08    1336  2.93  2020\n",
       "3        7 2020-03-09    2020  3.13  2020\n",
       "4        8 2020-03-10    2574  3.22  2020\n",
       "..     ...        ...     ...   ...   ...\n",
       "771    775 2022-04-16   83543  0.89  2022\n",
       "772    776 2022-04-17   94915  0.88  2022\n",
       "773    777 2022-04-18  106658  0.92  2022\n",
       "774    778 2022-04-19  124049  0.98  2022\n",
       "775    779 2022-04-20  116755  0.99  2022\n",
       "\n",
       "[776 rows x 5 columns]"
      ]
     },
     "execution_count": 2547,
     "metadata": {},
     "output_type": "execute_result"
    }
   ],
   "source": [
    "t_testdata"
   ]
  },
  {
   "cell_type": "code",
   "execution_count": 2641,
   "id": "baa98398-50da-45aa-aafd-fe54773cf117",
   "metadata": {},
   "outputs": [],
   "source": [
    "cases_2020 = t_testdata[(t_testdata['date'].dt.year == 2020) & (t_testdata['date'].dt.month >= 4) ].groupby(pd.Grouper(key='date', freq='d'))['cases'].agg(sum).reset_index()\n",
    "cases_2021 = t_testdata[(t_testdata['date'].dt.year == 2021) & (t_testdata['date'].dt.month >= 4) ].groupby(pd.Grouper(key='date', freq='d'))['cases'].agg(sum).reset_index()\n"
   ]
  },
  {
   "cell_type": "code",
   "execution_count": 2642,
   "id": "4b90b440-eb61-46fc-a0b5-0a18f4a33cf1",
   "metadata": {},
   "outputs": [],
   "source": [
    "cases_2020.drop(['date'], axis=1, inplace=True)\n",
    "cases_2021.drop(['date'], axis=1, inplace=True)\n"
   ]
  },
  {
   "cell_type": "code",
   "execution_count": 2646,
   "id": "12cedc94-b040-4256-b95e-4dff67be3bb4",
   "metadata": {},
   "outputs": [
    {
     "name": "stdout",
     "output_type": "stream",
     "text": [
      "Stat[-8.95914409]\n",
      "Stat[5.10989219e-18]\n"
     ]
    }
   ],
   "source": [
    "#perform two sample t-test with equal variances\n",
    "stat, pval = stats.ttest_ind(a=cases_2020, b=cases_2021, equal_var=True)\n",
    "print('Stat' + str(stat))\n",
    "print('Stat' + str(pval))\n"
   ]
  },
  {
   "cell_type": "code",
   "execution_count": 2655,
   "id": "d191de7d-393c-4445-9454-333e340627e7",
   "metadata": {},
   "outputs": [
    {
     "data": {
      "text/plain": [
       "5.11e-18"
      ]
     },
     "execution_count": 2655,
     "metadata": {},
     "output_type": "execute_result"
    }
   ],
   "source": [
    "round(pval[0], 20)"
   ]
  },
  {
   "cell_type": "code",
   "execution_count": 2551,
   "id": "f615a1a9-9304-47b9-b06f-c5958f620bdd",
   "metadata": {},
   "outputs": [
    {
     "data": {
      "text/html": [
       "<div>\n",
       "<style scoped>\n",
       "    .dataframe tbody tr th:only-of-type {\n",
       "        vertical-align: middle;\n",
       "    }\n",
       "\n",
       "    .dataframe tbody tr th {\n",
       "        vertical-align: top;\n",
       "    }\n",
       "\n",
       "    .dataframe thead th {\n",
       "        text-align: right;\n",
       "    }\n",
       "</style>\n",
       "<table border=\"1\" class=\"dataframe\">\n",
       "  <thead>\n",
       "    <tr style=\"text-align: right;\">\n",
       "      <th></th>\n",
       "      <th>cases</th>\n",
       "    </tr>\n",
       "  </thead>\n",
       "  <tbody>\n",
       "    <tr>\n",
       "      <th>0</th>\n",
       "      <td>404</td>\n",
       "    </tr>\n",
       "    <tr>\n",
       "      <th>1</th>\n",
       "      <td>342</td>\n",
       "    </tr>\n",
       "    <tr>\n",
       "      <th>2</th>\n",
       "      <td>345</td>\n",
       "    </tr>\n",
       "    <tr>\n",
       "      <th>3</th>\n",
       "      <td>300</td>\n",
       "    </tr>\n",
       "    <tr>\n",
       "      <th>4</th>\n",
       "      <td>290</td>\n",
       "    </tr>\n",
       "    <tr>\n",
       "      <th>...</th>\n",
       "      <td>...</td>\n",
       "    </tr>\n",
       "    <tr>\n",
       "      <th>179</th>\n",
       "      <td>18086</td>\n",
       "    </tr>\n",
       "    <tr>\n",
       "      <th>180</th>\n",
       "      <td>22339</td>\n",
       "    </tr>\n",
       "    <tr>\n",
       "      <th>181</th>\n",
       "      <td>18575</td>\n",
       "    </tr>\n",
       "    <tr>\n",
       "      <th>182</th>\n",
       "      <td>16287</td>\n",
       "    </tr>\n",
       "    <tr>\n",
       "      <th>183</th>\n",
       "      <td>14556</td>\n",
       "    </tr>\n",
       "  </tbody>\n",
       "</table>\n",
       "<p>184 rows × 1 columns</p>\n",
       "</div>"
      ],
      "text/plain": [
       "     cases\n",
       "0      404\n",
       "1      342\n",
       "2      345\n",
       "3      300\n",
       "4      290\n",
       "..     ...\n",
       "179  18086\n",
       "180  22339\n",
       "181  18575\n",
       "182  16287\n",
       "183  14556\n",
       "\n",
       "[184 rows x 1 columns]"
      ]
     },
     "execution_count": 2551,
     "metadata": {},
     "output_type": "execute_result"
    }
   ],
   "source": [
    "cases_2020"
   ]
  },
  {
   "cell_type": "code",
   "execution_count": 2552,
   "id": "1539e155-3401-44ce-af05-93326e2622ed",
   "metadata": {},
   "outputs": [
    {
     "data": {
      "text/html": [
       "<div>\n",
       "<style scoped>\n",
       "    .dataframe tbody tr th:only-of-type {\n",
       "        vertical-align: middle;\n",
       "    }\n",
       "\n",
       "    .dataframe tbody tr th {\n",
       "        vertical-align: top;\n",
       "    }\n",
       "\n",
       "    .dataframe thead th {\n",
       "        text-align: right;\n",
       "    }\n",
       "</style>\n",
       "<table border=\"1\" class=\"dataframe\">\n",
       "  <thead>\n",
       "    <tr style=\"text-align: right;\">\n",
       "      <th></th>\n",
       "      <th>cases</th>\n",
       "    </tr>\n",
       "  </thead>\n",
       "  <tbody>\n",
       "    <tr>\n",
       "      <th>0</th>\n",
       "      <td>655</td>\n",
       "    </tr>\n",
       "    <tr>\n",
       "      <th>1</th>\n",
       "      <td>655</td>\n",
       "    </tr>\n",
       "    <tr>\n",
       "      <th>2</th>\n",
       "      <td>676</td>\n",
       "    </tr>\n",
       "    <tr>\n",
       "      <th>3</th>\n",
       "      <td>740</td>\n",
       "    </tr>\n",
       "    <tr>\n",
       "      <th>4</th>\n",
       "      <td>1038</td>\n",
       "    </tr>\n",
       "    <tr>\n",
       "      <th>...</th>\n",
       "      <td>...</td>\n",
       "    </tr>\n",
       "    <tr>\n",
       "      <th>179</th>\n",
       "      <td>38089</td>\n",
       "    </tr>\n",
       "    <tr>\n",
       "      <th>180</th>\n",
       "      <td>37520</td>\n",
       "    </tr>\n",
       "    <tr>\n",
       "      <th>181</th>\n",
       "      <td>34666</td>\n",
       "    </tr>\n",
       "    <tr>\n",
       "      <th>182</th>\n",
       "      <td>33152</td>\n",
       "    </tr>\n",
       "    <tr>\n",
       "      <th>183</th>\n",
       "      <td>34962</td>\n",
       "    </tr>\n",
       "  </tbody>\n",
       "</table>\n",
       "<p>184 rows × 1 columns</p>\n",
       "</div>"
      ],
      "text/plain": [
       "     cases\n",
       "0      655\n",
       "1      655\n",
       "2      676\n",
       "3      740\n",
       "4     1038\n",
       "..     ...\n",
       "179  38089\n",
       "180  37520\n",
       "181  34666\n",
       "182  33152\n",
       "183  34962\n",
       "\n",
       "[184 rows x 1 columns]"
      ]
     },
     "execution_count": 2552,
     "metadata": {},
     "output_type": "execute_result"
    }
   ],
   "source": [
    "cases_2021"
   ]
  },
  {
   "cell_type": "code",
   "execution_count": 2553,
   "id": "0882a0d9-41d7-4d05-8823-13c01499c7fb",
   "metadata": {},
   "outputs": [],
   "source": [
    "confidence_level = 0.95\n",
    "degrees_freedom = len(cases_2020) - 1 \n",
    "sample_mean = np.mean(cases_2020)"
   ]
  },
  {
   "cell_type": "code",
   "execution_count": 2554,
   "id": "742bd235-e8c8-4373-a4bb-f912a4bf951a",
   "metadata": {},
   "outputs": [],
   "source": [
    "sample_std_error = stats.sem(cases_2020) \n",
    "confidence_interval = stats.t.interval(confidence_level, \n",
    "                                             degrees_freedom, \n",
    "                                             sample_mean, \n",
    "                                             sample_std_error)"
   ]
  },
  {
   "cell_type": "code",
   "execution_count": 2555,
   "id": "5bc1491d-bb37-4a48-a361-fe6328720c08",
   "metadata": {},
   "outputs": [
    {
     "data": {
      "text/plain": [
       "(array([7492.23949369]), array([10031.71702804]))"
      ]
     },
     "execution_count": 2555,
     "metadata": {},
     "output_type": "execute_result"
    }
   ],
   "source": [
    "confidence_interval"
   ]
  }
 ],
 "metadata": {
  "kernelspec": {
   "display_name": "Python 3 (ipykernel)",
   "language": "python",
   "name": "python3"
  },
  "language_info": {
   "codemirror_mode": {
    "name": "ipython",
    "version": 3
   },
   "file_extension": ".py",
   "mimetype": "text/x-python",
   "name": "python",
   "nbconvert_exporter": "python",
   "pygments_lexer": "ipython3",
   "version": "3.9.7"
  },
  "toc-autonumbering": true
 },
 "nbformat": 4,
 "nbformat_minor": 5
}
